{
 "cells": [
  {
   "cell_type": "markdown",
   "metadata": {},
   "source": [
    "<br><br><center><h1 style=\"font-size:2em;color:#2467C0\">1.88 Million US Wildfires Data Exploration</h1></center>\n",
    "\n",
    "This data analysis is using an open dataset from Kaggle, 1.88 Million US Wildfires dataset obtained from the United States Department of Agriculture Forest Service. The data contains a spatial database of wildfires that occurred in the United States from 1992 to 2015 - includes 1.88 million geo-referenced wildfire records, representing a total of 140 million acres burned.\n",
    "\n",
    "\n",
    "Source:\n",
    "\n",
    "https://www.kaggle.com/rtatman/188-million-us-wildfires\n",
    "\n",
    "https://www.fs.usda.gov/rds/archive/Product/RDS-2013-0009.4/"
   ]
  },
  {
   "cell_type": "markdown",
   "metadata": {},
   "source": [
    "## Step 1: Initial exploration of the Dataset"
   ]
  },
  {
   "cell_type": "code",
   "execution_count": 1,
   "metadata": {},
   "outputs": [],
   "source": [
    "import numpy as np\n",
    "import pandas as pd\n",
    "pd.set_option('max_columns', None)\n",
    "import calendar\n",
    "import datetime as dt\n",
    "\n",
    "import sqlite3\n",
    "import matplotlib.pyplot as plt\n",
    "%matplotlib inline\n",
    "plt.style.use('fivethirtyeight')"
   ]
  },
  {
   "cell_type": "code",
   "execution_count": 2,
   "metadata": {},
   "outputs": [],
   "source": [
    "# connect to the database\n",
    "conn = sqlite3.connect(\"FPA_FOD_20170508.sqlite\")"
   ]
  },
  {
   "cell_type": "code",
   "execution_count": 3,
   "metadata": {},
   "outputs": [],
   "source": [
    "# import to pandas\n",
    "df = pd.read_sql_query(\"SELECT * FROM fires\", conn)"
   ]
  },
  {
   "cell_type": "code",
   "execution_count": 4,
   "metadata": {},
   "outputs": [
    {
     "name": "stdout",
     "output_type": "stream",
     "text": [
      "(1880465, 39)\n"
     ]
    },
    {
     "data": {
      "text/html": [
       "<div>\n",
       "<style scoped>\n",
       "    .dataframe tbody tr th:only-of-type {\n",
       "        vertical-align: middle;\n",
       "    }\n",
       "\n",
       "    .dataframe tbody tr th {\n",
       "        vertical-align: top;\n",
       "    }\n",
       "\n",
       "    .dataframe thead th {\n",
       "        text-align: right;\n",
       "    }\n",
       "</style>\n",
       "<table border=\"1\" class=\"dataframe\">\n",
       "  <thead>\n",
       "    <tr style=\"text-align: right;\">\n",
       "      <th></th>\n",
       "      <th>OBJECTID</th>\n",
       "      <th>FOD_ID</th>\n",
       "      <th>FPA_ID</th>\n",
       "      <th>SOURCE_SYSTEM_TYPE</th>\n",
       "      <th>SOURCE_SYSTEM</th>\n",
       "      <th>NWCG_REPORTING_AGENCY</th>\n",
       "      <th>NWCG_REPORTING_UNIT_ID</th>\n",
       "      <th>NWCG_REPORTING_UNIT_NAME</th>\n",
       "      <th>SOURCE_REPORTING_UNIT</th>\n",
       "      <th>SOURCE_REPORTING_UNIT_NAME</th>\n",
       "      <th>LOCAL_FIRE_REPORT_ID</th>\n",
       "      <th>LOCAL_INCIDENT_ID</th>\n",
       "      <th>FIRE_CODE</th>\n",
       "      <th>FIRE_NAME</th>\n",
       "      <th>ICS_209_INCIDENT_NUMBER</th>\n",
       "      <th>ICS_209_NAME</th>\n",
       "      <th>MTBS_ID</th>\n",
       "      <th>MTBS_FIRE_NAME</th>\n",
       "      <th>COMPLEX_NAME</th>\n",
       "      <th>FIRE_YEAR</th>\n",
       "      <th>DISCOVERY_DATE</th>\n",
       "      <th>DISCOVERY_DOY</th>\n",
       "      <th>DISCOVERY_TIME</th>\n",
       "      <th>STAT_CAUSE_CODE</th>\n",
       "      <th>STAT_CAUSE_DESCR</th>\n",
       "      <th>CONT_DATE</th>\n",
       "      <th>CONT_DOY</th>\n",
       "      <th>CONT_TIME</th>\n",
       "      <th>FIRE_SIZE</th>\n",
       "      <th>FIRE_SIZE_CLASS</th>\n",
       "      <th>LATITUDE</th>\n",
       "      <th>LONGITUDE</th>\n",
       "      <th>OWNER_CODE</th>\n",
       "      <th>OWNER_DESCR</th>\n",
       "      <th>STATE</th>\n",
       "      <th>COUNTY</th>\n",
       "      <th>FIPS_CODE</th>\n",
       "      <th>FIPS_NAME</th>\n",
       "      <th>Shape</th>\n",
       "    </tr>\n",
       "  </thead>\n",
       "  <tbody>\n",
       "    <tr>\n",
       "      <th>0</th>\n",
       "      <td>1</td>\n",
       "      <td>1</td>\n",
       "      <td>FS-1418826</td>\n",
       "      <td>FED</td>\n",
       "      <td>FS-FIRESTAT</td>\n",
       "      <td>FS</td>\n",
       "      <td>USCAPNF</td>\n",
       "      <td>Plumas National Forest</td>\n",
       "      <td>0511</td>\n",
       "      <td>Plumas National Forest</td>\n",
       "      <td>1</td>\n",
       "      <td>PNF-47</td>\n",
       "      <td>BJ8K</td>\n",
       "      <td>FOUNTAIN</td>\n",
       "      <td>None</td>\n",
       "      <td>None</td>\n",
       "      <td>None</td>\n",
       "      <td>None</td>\n",
       "      <td>None</td>\n",
       "      <td>2005</td>\n",
       "      <td>2453403.5</td>\n",
       "      <td>33</td>\n",
       "      <td>1300</td>\n",
       "      <td>9.0</td>\n",
       "      <td>Miscellaneous</td>\n",
       "      <td>2453403.5</td>\n",
       "      <td>33.0</td>\n",
       "      <td>1730</td>\n",
       "      <td>0.10</td>\n",
       "      <td>A</td>\n",
       "      <td>40.036944</td>\n",
       "      <td>-121.005833</td>\n",
       "      <td>5.0</td>\n",
       "      <td>USFS</td>\n",
       "      <td>CA</td>\n",
       "      <td>63</td>\n",
       "      <td>063</td>\n",
       "      <td>Plumas</td>\n",
       "      <td>b'\\x00\\x01\\xad\\x10\\x00\\x00\\xe8d\\xc2\\x92_@^\\xc0...</td>\n",
       "    </tr>\n",
       "    <tr>\n",
       "      <th>1</th>\n",
       "      <td>2</td>\n",
       "      <td>2</td>\n",
       "      <td>FS-1418827</td>\n",
       "      <td>FED</td>\n",
       "      <td>FS-FIRESTAT</td>\n",
       "      <td>FS</td>\n",
       "      <td>USCAENF</td>\n",
       "      <td>Eldorado National Forest</td>\n",
       "      <td>0503</td>\n",
       "      <td>Eldorado National Forest</td>\n",
       "      <td>13</td>\n",
       "      <td>13</td>\n",
       "      <td>AAC0</td>\n",
       "      <td>PIGEON</td>\n",
       "      <td>None</td>\n",
       "      <td>None</td>\n",
       "      <td>None</td>\n",
       "      <td>None</td>\n",
       "      <td>None</td>\n",
       "      <td>2004</td>\n",
       "      <td>2453137.5</td>\n",
       "      <td>133</td>\n",
       "      <td>0845</td>\n",
       "      <td>1.0</td>\n",
       "      <td>Lightning</td>\n",
       "      <td>2453137.5</td>\n",
       "      <td>133.0</td>\n",
       "      <td>1530</td>\n",
       "      <td>0.25</td>\n",
       "      <td>A</td>\n",
       "      <td>38.933056</td>\n",
       "      <td>-120.404444</td>\n",
       "      <td>5.0</td>\n",
       "      <td>USFS</td>\n",
       "      <td>CA</td>\n",
       "      <td>61</td>\n",
       "      <td>061</td>\n",
       "      <td>Placer</td>\n",
       "      <td>b'\\x00\\x01\\xad\\x10\\x00\\x00T\\xb6\\xeej\\xe2\\x19^\\...</td>\n",
       "    </tr>\n",
       "    <tr>\n",
       "      <th>2</th>\n",
       "      <td>3</td>\n",
       "      <td>3</td>\n",
       "      <td>FS-1418835</td>\n",
       "      <td>FED</td>\n",
       "      <td>FS-FIRESTAT</td>\n",
       "      <td>FS</td>\n",
       "      <td>USCAENF</td>\n",
       "      <td>Eldorado National Forest</td>\n",
       "      <td>0503</td>\n",
       "      <td>Eldorado National Forest</td>\n",
       "      <td>27</td>\n",
       "      <td>021</td>\n",
       "      <td>A32W</td>\n",
       "      <td>SLACK</td>\n",
       "      <td>None</td>\n",
       "      <td>None</td>\n",
       "      <td>None</td>\n",
       "      <td>None</td>\n",
       "      <td>None</td>\n",
       "      <td>2004</td>\n",
       "      <td>2453156.5</td>\n",
       "      <td>152</td>\n",
       "      <td>1921</td>\n",
       "      <td>5.0</td>\n",
       "      <td>Debris Burning</td>\n",
       "      <td>2453156.5</td>\n",
       "      <td>152.0</td>\n",
       "      <td>2024</td>\n",
       "      <td>0.10</td>\n",
       "      <td>A</td>\n",
       "      <td>38.984167</td>\n",
       "      <td>-120.735556</td>\n",
       "      <td>13.0</td>\n",
       "      <td>STATE OR PRIVATE</td>\n",
       "      <td>CA</td>\n",
       "      <td>17</td>\n",
       "      <td>017</td>\n",
       "      <td>El Dorado</td>\n",
       "      <td>b'\\x00\\x01\\xad\\x10\\x00\\x00\\xd0\\xa5\\xa0W\\x13/^\\...</td>\n",
       "    </tr>\n",
       "    <tr>\n",
       "      <th>3</th>\n",
       "      <td>4</td>\n",
       "      <td>4</td>\n",
       "      <td>FS-1418845</td>\n",
       "      <td>FED</td>\n",
       "      <td>FS-FIRESTAT</td>\n",
       "      <td>FS</td>\n",
       "      <td>USCAENF</td>\n",
       "      <td>Eldorado National Forest</td>\n",
       "      <td>0503</td>\n",
       "      <td>Eldorado National Forest</td>\n",
       "      <td>43</td>\n",
       "      <td>6</td>\n",
       "      <td>None</td>\n",
       "      <td>DEER</td>\n",
       "      <td>None</td>\n",
       "      <td>None</td>\n",
       "      <td>None</td>\n",
       "      <td>None</td>\n",
       "      <td>None</td>\n",
       "      <td>2004</td>\n",
       "      <td>2453184.5</td>\n",
       "      <td>180</td>\n",
       "      <td>1600</td>\n",
       "      <td>1.0</td>\n",
       "      <td>Lightning</td>\n",
       "      <td>2453189.5</td>\n",
       "      <td>185.0</td>\n",
       "      <td>1400</td>\n",
       "      <td>0.10</td>\n",
       "      <td>A</td>\n",
       "      <td>38.559167</td>\n",
       "      <td>-119.913333</td>\n",
       "      <td>5.0</td>\n",
       "      <td>USFS</td>\n",
       "      <td>CA</td>\n",
       "      <td>3</td>\n",
       "      <td>003</td>\n",
       "      <td>Alpine</td>\n",
       "      <td>b'\\x00\\x01\\xad\\x10\\x00\\x00\\x94\\xac\\xa3\\rt\\xfa]...</td>\n",
       "    </tr>\n",
       "    <tr>\n",
       "      <th>4</th>\n",
       "      <td>5</td>\n",
       "      <td>5</td>\n",
       "      <td>FS-1418847</td>\n",
       "      <td>FED</td>\n",
       "      <td>FS-FIRESTAT</td>\n",
       "      <td>FS</td>\n",
       "      <td>USCAENF</td>\n",
       "      <td>Eldorado National Forest</td>\n",
       "      <td>0503</td>\n",
       "      <td>Eldorado National Forest</td>\n",
       "      <td>44</td>\n",
       "      <td>7</td>\n",
       "      <td>None</td>\n",
       "      <td>STEVENOT</td>\n",
       "      <td>None</td>\n",
       "      <td>None</td>\n",
       "      <td>None</td>\n",
       "      <td>None</td>\n",
       "      <td>None</td>\n",
       "      <td>2004</td>\n",
       "      <td>2453184.5</td>\n",
       "      <td>180</td>\n",
       "      <td>1600</td>\n",
       "      <td>1.0</td>\n",
       "      <td>Lightning</td>\n",
       "      <td>2453189.5</td>\n",
       "      <td>185.0</td>\n",
       "      <td>1200</td>\n",
       "      <td>0.10</td>\n",
       "      <td>A</td>\n",
       "      <td>38.559167</td>\n",
       "      <td>-119.933056</td>\n",
       "      <td>5.0</td>\n",
       "      <td>USFS</td>\n",
       "      <td>CA</td>\n",
       "      <td>3</td>\n",
       "      <td>003</td>\n",
       "      <td>Alpine</td>\n",
       "      <td>b'\\x00\\x01\\xad\\x10\\x00\\x00@\\xe3\\xaa.\\xb7\\xfb]\\...</td>\n",
       "    </tr>\n",
       "  </tbody>\n",
       "</table>\n",
       "</div>"
      ],
      "text/plain": [
       "   OBJECTID  FOD_ID      FPA_ID SOURCE_SYSTEM_TYPE SOURCE_SYSTEM  \\\n",
       "0         1       1  FS-1418826                FED   FS-FIRESTAT   \n",
       "1         2       2  FS-1418827                FED   FS-FIRESTAT   \n",
       "2         3       3  FS-1418835                FED   FS-FIRESTAT   \n",
       "3         4       4  FS-1418845                FED   FS-FIRESTAT   \n",
       "4         5       5  FS-1418847                FED   FS-FIRESTAT   \n",
       "\n",
       "  NWCG_REPORTING_AGENCY NWCG_REPORTING_UNIT_ID  NWCG_REPORTING_UNIT_NAME  \\\n",
       "0                    FS                USCAPNF    Plumas National Forest   \n",
       "1                    FS                USCAENF  Eldorado National Forest   \n",
       "2                    FS                USCAENF  Eldorado National Forest   \n",
       "3                    FS                USCAENF  Eldorado National Forest   \n",
       "4                    FS                USCAENF  Eldorado National Forest   \n",
       "\n",
       "  SOURCE_REPORTING_UNIT SOURCE_REPORTING_UNIT_NAME LOCAL_FIRE_REPORT_ID  \\\n",
       "0                  0511     Plumas National Forest                    1   \n",
       "1                  0503   Eldorado National Forest                   13   \n",
       "2                  0503   Eldorado National Forest                   27   \n",
       "3                  0503   Eldorado National Forest                   43   \n",
       "4                  0503   Eldorado National Forest                   44   \n",
       "\n",
       "  LOCAL_INCIDENT_ID FIRE_CODE FIRE_NAME ICS_209_INCIDENT_NUMBER ICS_209_NAME  \\\n",
       "0            PNF-47      BJ8K  FOUNTAIN                    None         None   \n",
       "1                13      AAC0    PIGEON                    None         None   \n",
       "2               021      A32W     SLACK                    None         None   \n",
       "3                 6      None      DEER                    None         None   \n",
       "4                 7      None  STEVENOT                    None         None   \n",
       "\n",
       "  MTBS_ID MTBS_FIRE_NAME COMPLEX_NAME  FIRE_YEAR  DISCOVERY_DATE  \\\n",
       "0    None           None         None       2005       2453403.5   \n",
       "1    None           None         None       2004       2453137.5   \n",
       "2    None           None         None       2004       2453156.5   \n",
       "3    None           None         None       2004       2453184.5   \n",
       "4    None           None         None       2004       2453184.5   \n",
       "\n",
       "   DISCOVERY_DOY DISCOVERY_TIME  STAT_CAUSE_CODE STAT_CAUSE_DESCR  CONT_DATE  \\\n",
       "0             33           1300              9.0    Miscellaneous  2453403.5   \n",
       "1            133           0845              1.0        Lightning  2453137.5   \n",
       "2            152           1921              5.0   Debris Burning  2453156.5   \n",
       "3            180           1600              1.0        Lightning  2453189.5   \n",
       "4            180           1600              1.0        Lightning  2453189.5   \n",
       "\n",
       "   CONT_DOY CONT_TIME  FIRE_SIZE FIRE_SIZE_CLASS   LATITUDE   LONGITUDE  \\\n",
       "0      33.0      1730       0.10               A  40.036944 -121.005833   \n",
       "1     133.0      1530       0.25               A  38.933056 -120.404444   \n",
       "2     152.0      2024       0.10               A  38.984167 -120.735556   \n",
       "3     185.0      1400       0.10               A  38.559167 -119.913333   \n",
       "4     185.0      1200       0.10               A  38.559167 -119.933056   \n",
       "\n",
       "   OWNER_CODE       OWNER_DESCR STATE COUNTY FIPS_CODE  FIPS_NAME  \\\n",
       "0         5.0              USFS    CA     63       063     Plumas   \n",
       "1         5.0              USFS    CA     61       061     Placer   \n",
       "2        13.0  STATE OR PRIVATE    CA     17       017  El Dorado   \n",
       "3         5.0              USFS    CA      3       003     Alpine   \n",
       "4         5.0              USFS    CA      3       003     Alpine   \n",
       "\n",
       "                                               Shape  \n",
       "0  b'\\x00\\x01\\xad\\x10\\x00\\x00\\xe8d\\xc2\\x92_@^\\xc0...  \n",
       "1  b'\\x00\\x01\\xad\\x10\\x00\\x00T\\xb6\\xeej\\xe2\\x19^\\...  \n",
       "2  b'\\x00\\x01\\xad\\x10\\x00\\x00\\xd0\\xa5\\xa0W\\x13/^\\...  \n",
       "3  b'\\x00\\x01\\xad\\x10\\x00\\x00\\x94\\xac\\xa3\\rt\\xfa]...  \n",
       "4  b'\\x00\\x01\\xad\\x10\\x00\\x00@\\xe3\\xaa.\\xb7\\xfb]\\...  "
      ]
     },
     "execution_count": 4,
     "metadata": {},
     "output_type": "execute_result"
    }
   ],
   "source": [
    "# large dataset in terms of rows and columns. What does it hold?\n",
    "print(df.shape)\n",
    "df.head()"
   ]
  },
  {
   "cell_type": "code",
   "execution_count": 5,
   "metadata": {},
   "outputs": [
    {
     "data": {
      "text/html": [
       "<div>\n",
       "<style scoped>\n",
       "    .dataframe tbody tr th:only-of-type {\n",
       "        vertical-align: middle;\n",
       "    }\n",
       "\n",
       "    .dataframe tbody tr th {\n",
       "        vertical-align: top;\n",
       "    }\n",
       "\n",
       "    .dataframe thead th {\n",
       "        text-align: right;\n",
       "    }\n",
       "</style>\n",
       "<table border=\"1\" class=\"dataframe\">\n",
       "  <thead>\n",
       "    <tr style=\"text-align: right;\">\n",
       "      <th></th>\n",
       "      <th>OBJECTID</th>\n",
       "      <th>FOD_ID</th>\n",
       "      <th>FIRE_YEAR</th>\n",
       "      <th>DISCOVERY_DATE</th>\n",
       "      <th>DISCOVERY_DOY</th>\n",
       "      <th>STAT_CAUSE_CODE</th>\n",
       "      <th>CONT_DATE</th>\n",
       "      <th>CONT_DOY</th>\n",
       "      <th>FIRE_SIZE</th>\n",
       "      <th>LATITUDE</th>\n",
       "      <th>LONGITUDE</th>\n",
       "      <th>OWNER_CODE</th>\n",
       "    </tr>\n",
       "  </thead>\n",
       "  <tbody>\n",
       "    <tr>\n",
       "      <th>count</th>\n",
       "      <td>1.880465e+06</td>\n",
       "      <td>1.880465e+06</td>\n",
       "      <td>1.880465e+06</td>\n",
       "      <td>1.880465e+06</td>\n",
       "      <td>1.880465e+06</td>\n",
       "      <td>1.880465e+06</td>\n",
       "      <td>9.889340e+05</td>\n",
       "      <td>988934.000000</td>\n",
       "      <td>1.880465e+06</td>\n",
       "      <td>1.880465e+06</td>\n",
       "      <td>1.880465e+06</td>\n",
       "      <td>1.880465e+06</td>\n",
       "    </tr>\n",
       "    <tr>\n",
       "      <th>mean</th>\n",
       "      <td>9.402330e+05</td>\n",
       "      <td>5.484020e+07</td>\n",
       "      <td>2.003710e+03</td>\n",
       "      <td>2.453064e+06</td>\n",
       "      <td>1.647191e+02</td>\n",
       "      <td>5.979037e+00</td>\n",
       "      <td>2.453238e+06</td>\n",
       "      <td>172.656766</td>\n",
       "      <td>7.452016e+01</td>\n",
       "      <td>3.678121e+01</td>\n",
       "      <td>-9.570494e+01</td>\n",
       "      <td>1.059658e+01</td>\n",
       "    </tr>\n",
       "    <tr>\n",
       "      <th>std</th>\n",
       "      <td>5.428436e+05</td>\n",
       "      <td>1.011963e+08</td>\n",
       "      <td>6.663099e+00</td>\n",
       "      <td>2.434573e+03</td>\n",
       "      <td>9.003891e+01</td>\n",
       "      <td>3.483860e+00</td>\n",
       "      <td>2.687548e+03</td>\n",
       "      <td>84.320348</td>\n",
       "      <td>2.497598e+03</td>\n",
       "      <td>6.139031e+00</td>\n",
       "      <td>1.671694e+01</td>\n",
       "      <td>4.404662e+00</td>\n",
       "    </tr>\n",
       "    <tr>\n",
       "      <th>min</th>\n",
       "      <td>1.000000e+00</td>\n",
       "      <td>1.000000e+00</td>\n",
       "      <td>1.992000e+03</td>\n",
       "      <td>2.448622e+06</td>\n",
       "      <td>1.000000e+00</td>\n",
       "      <td>1.000000e+00</td>\n",
       "      <td>2.448622e+06</td>\n",
       "      <td>1.000000</td>\n",
       "      <td>1.000000e-05</td>\n",
       "      <td>1.793972e+01</td>\n",
       "      <td>-1.788026e+02</td>\n",
       "      <td>0.000000e+00</td>\n",
       "    </tr>\n",
       "    <tr>\n",
       "      <th>25%</th>\n",
       "      <td>4.701170e+05</td>\n",
       "      <td>5.055000e+05</td>\n",
       "      <td>1.998000e+03</td>\n",
       "      <td>2.451084e+06</td>\n",
       "      <td>8.900000e+01</td>\n",
       "      <td>3.000000e+00</td>\n",
       "      <td>2.450701e+06</td>\n",
       "      <td>102.000000</td>\n",
       "      <td>1.000000e-01</td>\n",
       "      <td>3.281860e+01</td>\n",
       "      <td>-1.103635e+02</td>\n",
       "      <td>8.000000e+00</td>\n",
       "    </tr>\n",
       "    <tr>\n",
       "      <th>50%</th>\n",
       "      <td>9.402330e+05</td>\n",
       "      <td>1.067761e+06</td>\n",
       "      <td>2.004000e+03</td>\n",
       "      <td>2.453178e+06</td>\n",
       "      <td>1.640000e+02</td>\n",
       "      <td>5.000000e+00</td>\n",
       "      <td>2.453466e+06</td>\n",
       "      <td>181.000000</td>\n",
       "      <td>1.000000e+00</td>\n",
       "      <td>3.545250e+01</td>\n",
       "      <td>-9.204304e+01</td>\n",
       "      <td>1.400000e+01</td>\n",
       "    </tr>\n",
       "    <tr>\n",
       "      <th>75%</th>\n",
       "      <td>1.410349e+06</td>\n",
       "      <td>1.910639e+07</td>\n",
       "      <td>2.009000e+03</td>\n",
       "      <td>2.455036e+06</td>\n",
       "      <td>2.300000e+02</td>\n",
       "      <td>9.000000e+00</td>\n",
       "      <td>2.455754e+06</td>\n",
       "      <td>232.000000</td>\n",
       "      <td>3.300000e+00</td>\n",
       "      <td>4.082720e+01</td>\n",
       "      <td>-8.229760e+01</td>\n",
       "      <td>1.400000e+01</td>\n",
       "    </tr>\n",
       "    <tr>\n",
       "      <th>max</th>\n",
       "      <td>1.880465e+06</td>\n",
       "      <td>3.003484e+08</td>\n",
       "      <td>2.015000e+03</td>\n",
       "      <td>2.457388e+06</td>\n",
       "      <td>3.660000e+02</td>\n",
       "      <td>1.300000e+01</td>\n",
       "      <td>2.457392e+06</td>\n",
       "      <td>366.000000</td>\n",
       "      <td>6.069450e+05</td>\n",
       "      <td>7.033060e+01</td>\n",
       "      <td>-6.525694e+01</td>\n",
       "      <td>1.500000e+01</td>\n",
       "    </tr>\n",
       "  </tbody>\n",
       "</table>\n",
       "</div>"
      ],
      "text/plain": [
       "           OBJECTID        FOD_ID     FIRE_YEAR  DISCOVERY_DATE  \\\n",
       "count  1.880465e+06  1.880465e+06  1.880465e+06    1.880465e+06   \n",
       "mean   9.402330e+05  5.484020e+07  2.003710e+03    2.453064e+06   \n",
       "std    5.428436e+05  1.011963e+08  6.663099e+00    2.434573e+03   \n",
       "min    1.000000e+00  1.000000e+00  1.992000e+03    2.448622e+06   \n",
       "25%    4.701170e+05  5.055000e+05  1.998000e+03    2.451084e+06   \n",
       "50%    9.402330e+05  1.067761e+06  2.004000e+03    2.453178e+06   \n",
       "75%    1.410349e+06  1.910639e+07  2.009000e+03    2.455036e+06   \n",
       "max    1.880465e+06  3.003484e+08  2.015000e+03    2.457388e+06   \n",
       "\n",
       "       DISCOVERY_DOY  STAT_CAUSE_CODE     CONT_DATE       CONT_DOY  \\\n",
       "count   1.880465e+06     1.880465e+06  9.889340e+05  988934.000000   \n",
       "mean    1.647191e+02     5.979037e+00  2.453238e+06     172.656766   \n",
       "std     9.003891e+01     3.483860e+00  2.687548e+03      84.320348   \n",
       "min     1.000000e+00     1.000000e+00  2.448622e+06       1.000000   \n",
       "25%     8.900000e+01     3.000000e+00  2.450701e+06     102.000000   \n",
       "50%     1.640000e+02     5.000000e+00  2.453466e+06     181.000000   \n",
       "75%     2.300000e+02     9.000000e+00  2.455754e+06     232.000000   \n",
       "max     3.660000e+02     1.300000e+01  2.457392e+06     366.000000   \n",
       "\n",
       "          FIRE_SIZE      LATITUDE     LONGITUDE    OWNER_CODE  \n",
       "count  1.880465e+06  1.880465e+06  1.880465e+06  1.880465e+06  \n",
       "mean   7.452016e+01  3.678121e+01 -9.570494e+01  1.059658e+01  \n",
       "std    2.497598e+03  6.139031e+00  1.671694e+01  4.404662e+00  \n",
       "min    1.000000e-05  1.793972e+01 -1.788026e+02  0.000000e+00  \n",
       "25%    1.000000e-01  3.281860e+01 -1.103635e+02  8.000000e+00  \n",
       "50%    1.000000e+00  3.545250e+01 -9.204304e+01  1.400000e+01  \n",
       "75%    3.300000e+00  4.082720e+01 -8.229760e+01  1.400000e+01  \n",
       "max    6.069450e+05  7.033060e+01 -6.525694e+01  1.500000e+01  "
      ]
     },
     "execution_count": 5,
     "metadata": {},
     "output_type": "execute_result"
    }
   ],
   "source": [
    "df.describe()"
   ]
  },
  {
   "cell_type": "code",
   "execution_count": 6,
   "metadata": {},
   "outputs": [
    {
     "data": {
      "text/plain": [
       "OBJECTID                            0\n",
       "FOD_ID                              0\n",
       "FPA_ID                              0\n",
       "SOURCE_SYSTEM_TYPE                  0\n",
       "SOURCE_SYSTEM                       0\n",
       "NWCG_REPORTING_AGENCY               0\n",
       "NWCG_REPORTING_UNIT_ID              0\n",
       "NWCG_REPORTING_UNIT_NAME            0\n",
       "SOURCE_REPORTING_UNIT               0\n",
       "SOURCE_REPORTING_UNIT_NAME          0\n",
       "LOCAL_FIRE_REPORT_ID          1459286\n",
       "LOCAL_INCIDENT_ID              820821\n",
       "FIRE_CODE                     1555636\n",
       "FIRE_NAME                      957189\n",
       "ICS_209_INCIDENT_NUMBER       1854748\n",
       "ICS_209_NAME                  1854748\n",
       "MTBS_ID                       1869462\n",
       "MTBS_FIRE_NAME                1869462\n",
       "COMPLEX_NAME                  1875282\n",
       "FIRE_YEAR                           0\n",
       "DISCOVERY_DATE                      0\n",
       "DISCOVERY_DOY                       0\n",
       "DISCOVERY_TIME                 882638\n",
       "STAT_CAUSE_CODE                     0\n",
       "STAT_CAUSE_DESCR                    0\n",
       "CONT_DATE                      891531\n",
       "CONT_DOY                       891531\n",
       "CONT_TIME                      972173\n",
       "FIRE_SIZE                           0\n",
       "FIRE_SIZE_CLASS                     0\n",
       "LATITUDE                            0\n",
       "LONGITUDE                           0\n",
       "OWNER_CODE                          0\n",
       "OWNER_DESCR                         0\n",
       "STATE                               0\n",
       "COUNTY                         678148\n",
       "FIPS_CODE                      678148\n",
       "FIPS_NAME                      678148\n",
       "Shape                               0\n",
       "dtype: int64"
      ]
     },
     "execution_count": 6,
     "metadata": {},
     "output_type": "execute_result"
    }
   ],
   "source": [
    "# checking for nulls\n",
    "df.isnull().sum()"
   ]
  },
  {
   "cell_type": "markdown",
   "metadata": {},
   "source": [
    "#### Findings:\n",
    "- the majority of the columns that will be used in this analysis does not have nulls\n",
    "- need to convert DISCOVERY_DATE and CONT_DATE to regular time format"
   ]
  },
  {
   "cell_type": "code",
   "execution_count": 7,
   "metadata": {},
   "outputs": [
    {
     "data": {
      "text/plain": [
       "array(['CA', 'NM', 'OR', 'NC', 'WY', 'CO', 'WA', 'MT', 'UT', 'AZ', 'SD',\n",
       "       'AR', 'NV', 'ID', 'MN', 'TX', 'FL', 'SC', 'LA', 'OK', 'KS', 'MO',\n",
       "       'NE', 'MI', 'KY', 'OH', 'IN', 'VA', 'IL', 'TN', 'GA', 'AK', 'ND',\n",
       "       'WV', 'WI', 'AL', 'NH', 'PA', 'MS', 'ME', 'VT', 'NY', 'IA', 'DC',\n",
       "       'MD', 'CT', 'MA', 'NJ', 'HI', 'DE', 'PR', 'RI'], dtype=object)"
      ]
     },
     "execution_count": 7,
     "metadata": {},
     "output_type": "execute_result"
    }
   ],
   "source": [
    "# select columns of initial analysis\n",
    "df['STATE'].unique()"
   ]
  },
  {
   "cell_type": "markdown",
   "metadata": {},
   "source": [
    "#### great all 50 states plus DC and PR"
   ]
  },
  {
   "cell_type": "code",
   "execution_count": 8,
   "metadata": {},
   "outputs": [
    {
     "name": "stdout",
     "output_type": "stream",
     "text": [
      "1992\n",
      "2015\n"
     ]
    }
   ],
   "source": [
    "# How many years of data\n",
    "print(df['FIRE_YEAR'].min())\n",
    "print(df['FIRE_YEAR'].max())"
   ]
  },
  {
   "cell_type": "code",
   "execution_count": 9,
   "metadata": {},
   "outputs": [
    {
     "data": {
      "text/plain": [
       "['OBJECTID',\n",
       " 'FOD_ID',\n",
       " 'FPA_ID',\n",
       " 'SOURCE_SYSTEM_TYPE',\n",
       " 'SOURCE_SYSTEM',\n",
       " 'NWCG_REPORTING_AGENCY',\n",
       " 'NWCG_REPORTING_UNIT_ID',\n",
       " 'NWCG_REPORTING_UNIT_NAME',\n",
       " 'SOURCE_REPORTING_UNIT',\n",
       " 'SOURCE_REPORTING_UNIT_NAME',\n",
       " 'LOCAL_FIRE_REPORT_ID',\n",
       " 'LOCAL_INCIDENT_ID',\n",
       " 'FIRE_CODE',\n",
       " 'FIRE_NAME',\n",
       " 'ICS_209_INCIDENT_NUMBER',\n",
       " 'ICS_209_NAME',\n",
       " 'MTBS_ID',\n",
       " 'MTBS_FIRE_NAME',\n",
       " 'COMPLEX_NAME',\n",
       " 'FIRE_YEAR',\n",
       " 'DISCOVERY_DATE',\n",
       " 'DISCOVERY_DOY',\n",
       " 'DISCOVERY_TIME',\n",
       " 'STAT_CAUSE_CODE',\n",
       " 'STAT_CAUSE_DESCR',\n",
       " 'CONT_DATE',\n",
       " 'CONT_DOY',\n",
       " 'CONT_TIME',\n",
       " 'FIRE_SIZE',\n",
       " 'FIRE_SIZE_CLASS',\n",
       " 'LATITUDE',\n",
       " 'LONGITUDE',\n",
       " 'OWNER_CODE',\n",
       " 'OWNER_DESCR',\n",
       " 'STATE',\n",
       " 'COUNTY',\n",
       " 'FIPS_CODE',\n",
       " 'FIPS_NAME',\n",
       " 'Shape']"
      ]
     },
     "execution_count": 9,
     "metadata": {},
     "output_type": "execute_result"
    }
   ],
   "source": [
    "df.columns.tolist()"
   ]
  },
  {
   "cell_type": "markdown",
   "metadata": {},
   "source": [
    "### Selecting certain columns to work on the analysis"
   ]
  },
  {
   "cell_type": "code",
   "execution_count": 10,
   "metadata": {},
   "outputs": [],
   "source": [
    "fires = pd.read_sql_query(\"\"\"\n",
    "SELECT\n",
    "    FIRE_NAME,\n",
    "    FIRE_YEAR,\n",
    "    DISCOVERY_DATE,\n",
    "    STAT_CAUSE_DESCR,\n",
    "    CONT_DATE,\n",
    "    FIRE_SIZE,\n",
    "    FIRE_SIZE_CLASS,\n",
    "    LATITUDE,\n",
    "    LONGITUDE,\n",
    "    STATE,\n",
    "    COUNTY\n",
    "FROM fires\"\"\", conn)"
   ]
  },
  {
   "cell_type": "code",
   "execution_count": 11,
   "metadata": {},
   "outputs": [
    {
     "data": {
      "text/html": [
       "<div>\n",
       "<style scoped>\n",
       "    .dataframe tbody tr th:only-of-type {\n",
       "        vertical-align: middle;\n",
       "    }\n",
       "\n",
       "    .dataframe tbody tr th {\n",
       "        vertical-align: top;\n",
       "    }\n",
       "\n",
       "    .dataframe thead th {\n",
       "        text-align: right;\n",
       "    }\n",
       "</style>\n",
       "<table border=\"1\" class=\"dataframe\">\n",
       "  <thead>\n",
       "    <tr style=\"text-align: right;\">\n",
       "      <th></th>\n",
       "      <th>FIRE_NAME</th>\n",
       "      <th>FIRE_YEAR</th>\n",
       "      <th>DISCOVERY_DATE</th>\n",
       "      <th>STAT_CAUSE_DESCR</th>\n",
       "      <th>CONT_DATE</th>\n",
       "      <th>FIRE_SIZE</th>\n",
       "      <th>FIRE_SIZE_CLASS</th>\n",
       "      <th>LATITUDE</th>\n",
       "      <th>LONGITUDE</th>\n",
       "      <th>STATE</th>\n",
       "      <th>COUNTY</th>\n",
       "    </tr>\n",
       "  </thead>\n",
       "  <tbody>\n",
       "    <tr>\n",
       "      <th>0</th>\n",
       "      <td>FOUNTAIN</td>\n",
       "      <td>2005</td>\n",
       "      <td>2453403.5</td>\n",
       "      <td>Miscellaneous</td>\n",
       "      <td>2453403.5</td>\n",
       "      <td>0.10</td>\n",
       "      <td>A</td>\n",
       "      <td>40.036944</td>\n",
       "      <td>-121.005833</td>\n",
       "      <td>CA</td>\n",
       "      <td>63</td>\n",
       "    </tr>\n",
       "    <tr>\n",
       "      <th>1</th>\n",
       "      <td>PIGEON</td>\n",
       "      <td>2004</td>\n",
       "      <td>2453137.5</td>\n",
       "      <td>Lightning</td>\n",
       "      <td>2453137.5</td>\n",
       "      <td>0.25</td>\n",
       "      <td>A</td>\n",
       "      <td>38.933056</td>\n",
       "      <td>-120.404444</td>\n",
       "      <td>CA</td>\n",
       "      <td>61</td>\n",
       "    </tr>\n",
       "    <tr>\n",
       "      <th>2</th>\n",
       "      <td>SLACK</td>\n",
       "      <td>2004</td>\n",
       "      <td>2453156.5</td>\n",
       "      <td>Debris Burning</td>\n",
       "      <td>2453156.5</td>\n",
       "      <td>0.10</td>\n",
       "      <td>A</td>\n",
       "      <td>38.984167</td>\n",
       "      <td>-120.735556</td>\n",
       "      <td>CA</td>\n",
       "      <td>17</td>\n",
       "    </tr>\n",
       "    <tr>\n",
       "      <th>3</th>\n",
       "      <td>DEER</td>\n",
       "      <td>2004</td>\n",
       "      <td>2453184.5</td>\n",
       "      <td>Lightning</td>\n",
       "      <td>2453189.5</td>\n",
       "      <td>0.10</td>\n",
       "      <td>A</td>\n",
       "      <td>38.559167</td>\n",
       "      <td>-119.913333</td>\n",
       "      <td>CA</td>\n",
       "      <td>3</td>\n",
       "    </tr>\n",
       "    <tr>\n",
       "      <th>4</th>\n",
       "      <td>STEVENOT</td>\n",
       "      <td>2004</td>\n",
       "      <td>2453184.5</td>\n",
       "      <td>Lightning</td>\n",
       "      <td>2453189.5</td>\n",
       "      <td>0.10</td>\n",
       "      <td>A</td>\n",
       "      <td>38.559167</td>\n",
       "      <td>-119.933056</td>\n",
       "      <td>CA</td>\n",
       "      <td>3</td>\n",
       "    </tr>\n",
       "  </tbody>\n",
       "</table>\n",
       "</div>"
      ],
      "text/plain": [
       "  FIRE_NAME  FIRE_YEAR  DISCOVERY_DATE STAT_CAUSE_DESCR  CONT_DATE  FIRE_SIZE  \\\n",
       "0  FOUNTAIN       2005       2453403.5    Miscellaneous  2453403.5       0.10   \n",
       "1    PIGEON       2004       2453137.5        Lightning  2453137.5       0.25   \n",
       "2     SLACK       2004       2453156.5   Debris Burning  2453156.5       0.10   \n",
       "3      DEER       2004       2453184.5        Lightning  2453189.5       0.10   \n",
       "4  STEVENOT       2004       2453184.5        Lightning  2453189.5       0.10   \n",
       "\n",
       "  FIRE_SIZE_CLASS   LATITUDE   LONGITUDE STATE COUNTY  \n",
       "0               A  40.036944 -121.005833    CA     63  \n",
       "1               A  38.933056 -120.404444    CA     61  \n",
       "2               A  38.984167 -120.735556    CA     17  \n",
       "3               A  38.559167 -119.913333    CA      3  \n",
       "4               A  38.559167 -119.933056    CA      3  "
      ]
     },
     "execution_count": 11,
     "metadata": {},
     "output_type": "execute_result"
    }
   ],
   "source": [
    "fires.head()"
   ]
  },
  {
   "cell_type": "markdown",
   "metadata": {},
   "source": [
    "The DISCOVERY_DATE and CONT_DATE columns are in the Julian date format. Converting them to regular date formats"
   ]
  },
  {
   "cell_type": "code",
   "execution_count": 12,
   "metadata": {},
   "outputs": [],
   "source": [
    "# convert discovery date\n",
    "fires['D_DATE'] = pd.to_datetime(df['DISCOVERY_DATE'] - pd.Timestamp(0).to_julian_date(), unit='D')"
   ]
  },
  {
   "cell_type": "code",
   "execution_count": 13,
   "metadata": {},
   "outputs": [
    {
     "data": {
      "text/html": [
       "<div>\n",
       "<style scoped>\n",
       "    .dataframe tbody tr th:only-of-type {\n",
       "        vertical-align: middle;\n",
       "    }\n",
       "\n",
       "    .dataframe tbody tr th {\n",
       "        vertical-align: top;\n",
       "    }\n",
       "\n",
       "    .dataframe thead th {\n",
       "        text-align: right;\n",
       "    }\n",
       "</style>\n",
       "<table border=\"1\" class=\"dataframe\">\n",
       "  <thead>\n",
       "    <tr style=\"text-align: right;\">\n",
       "      <th></th>\n",
       "      <th>FIRE_NAME</th>\n",
       "      <th>FIRE_YEAR</th>\n",
       "      <th>DISCOVERY_DATE</th>\n",
       "      <th>STAT_CAUSE_DESCR</th>\n",
       "      <th>CONT_DATE</th>\n",
       "      <th>FIRE_SIZE</th>\n",
       "      <th>FIRE_SIZE_CLASS</th>\n",
       "      <th>LATITUDE</th>\n",
       "      <th>LONGITUDE</th>\n",
       "      <th>STATE</th>\n",
       "      <th>COUNTY</th>\n",
       "      <th>D_DATE</th>\n",
       "    </tr>\n",
       "  </thead>\n",
       "  <tbody>\n",
       "    <tr>\n",
       "      <th>0</th>\n",
       "      <td>FOUNTAIN</td>\n",
       "      <td>2005</td>\n",
       "      <td>2453403.5</td>\n",
       "      <td>Miscellaneous</td>\n",
       "      <td>2453403.5</td>\n",
       "      <td>0.10</td>\n",
       "      <td>A</td>\n",
       "      <td>40.036944</td>\n",
       "      <td>-121.005833</td>\n",
       "      <td>CA</td>\n",
       "      <td>63</td>\n",
       "      <td>2005-02-02</td>\n",
       "    </tr>\n",
       "    <tr>\n",
       "      <th>1</th>\n",
       "      <td>PIGEON</td>\n",
       "      <td>2004</td>\n",
       "      <td>2453137.5</td>\n",
       "      <td>Lightning</td>\n",
       "      <td>2453137.5</td>\n",
       "      <td>0.25</td>\n",
       "      <td>A</td>\n",
       "      <td>38.933056</td>\n",
       "      <td>-120.404444</td>\n",
       "      <td>CA</td>\n",
       "      <td>61</td>\n",
       "      <td>2004-05-12</td>\n",
       "    </tr>\n",
       "    <tr>\n",
       "      <th>2</th>\n",
       "      <td>SLACK</td>\n",
       "      <td>2004</td>\n",
       "      <td>2453156.5</td>\n",
       "      <td>Debris Burning</td>\n",
       "      <td>2453156.5</td>\n",
       "      <td>0.10</td>\n",
       "      <td>A</td>\n",
       "      <td>38.984167</td>\n",
       "      <td>-120.735556</td>\n",
       "      <td>CA</td>\n",
       "      <td>17</td>\n",
       "      <td>2004-05-31</td>\n",
       "    </tr>\n",
       "    <tr>\n",
       "      <th>3</th>\n",
       "      <td>DEER</td>\n",
       "      <td>2004</td>\n",
       "      <td>2453184.5</td>\n",
       "      <td>Lightning</td>\n",
       "      <td>2453189.5</td>\n",
       "      <td>0.10</td>\n",
       "      <td>A</td>\n",
       "      <td>38.559167</td>\n",
       "      <td>-119.913333</td>\n",
       "      <td>CA</td>\n",
       "      <td>3</td>\n",
       "      <td>2004-06-28</td>\n",
       "    </tr>\n",
       "    <tr>\n",
       "      <th>4</th>\n",
       "      <td>STEVENOT</td>\n",
       "      <td>2004</td>\n",
       "      <td>2453184.5</td>\n",
       "      <td>Lightning</td>\n",
       "      <td>2453189.5</td>\n",
       "      <td>0.10</td>\n",
       "      <td>A</td>\n",
       "      <td>38.559167</td>\n",
       "      <td>-119.933056</td>\n",
       "      <td>CA</td>\n",
       "      <td>3</td>\n",
       "      <td>2004-06-28</td>\n",
       "    </tr>\n",
       "  </tbody>\n",
       "</table>\n",
       "</div>"
      ],
      "text/plain": [
       "  FIRE_NAME  FIRE_YEAR  DISCOVERY_DATE STAT_CAUSE_DESCR  CONT_DATE  FIRE_SIZE  \\\n",
       "0  FOUNTAIN       2005       2453403.5    Miscellaneous  2453403.5       0.10   \n",
       "1    PIGEON       2004       2453137.5        Lightning  2453137.5       0.25   \n",
       "2     SLACK       2004       2453156.5   Debris Burning  2453156.5       0.10   \n",
       "3      DEER       2004       2453184.5        Lightning  2453189.5       0.10   \n",
       "4  STEVENOT       2004       2453184.5        Lightning  2453189.5       0.10   \n",
       "\n",
       "  FIRE_SIZE_CLASS   LATITUDE   LONGITUDE STATE COUNTY     D_DATE  \n",
       "0               A  40.036944 -121.005833    CA     63 2005-02-02  \n",
       "1               A  38.933056 -120.404444    CA     61 2004-05-12  \n",
       "2               A  38.984167 -120.735556    CA     17 2004-05-31  \n",
       "3               A  38.559167 -119.913333    CA      3 2004-06-28  \n",
       "4               A  38.559167 -119.933056    CA      3 2004-06-28  "
      ]
     },
     "execution_count": 13,
     "metadata": {},
     "output_type": "execute_result"
    }
   ],
   "source": [
    "fires.head()"
   ]
  },
  {
   "cell_type": "code",
   "execution_count": 14,
   "metadata": {},
   "outputs": [],
   "source": [
    "# add month and week day\n",
    "fires['D_MONTH'] = fires['D_DATE'].dt.month\n",
    "fires['D_DAY_OF_WEEK'] = fires['D_DATE'].dt.weekday_name"
   ]
  },
  {
   "cell_type": "code",
   "execution_count": 15,
   "metadata": {},
   "outputs": [],
   "source": [
    "# convert month integers to month abbreviations\n",
    "fires['D_MONTH'] = fires['D_MONTH'].apply(lambda x: calendar.month_abbr[x])"
   ]
  },
  {
   "cell_type": "code",
   "execution_count": 16,
   "metadata": {},
   "outputs": [],
   "source": [
    "# convert containment date\n",
    "fires['C_DATE'] = pd.to_datetime(df['CONT_DATE'] - pd.Timestamp(0).to_julian_date(), unit='D')"
   ]
  },
  {
   "cell_type": "code",
   "execution_count": 17,
   "metadata": {},
   "outputs": [],
   "source": [
    "# adding burn days\n",
    "fires['BURN_DAYS'] = fires['C_DATE'] - fires['D_DATE']"
   ]
  },
  {
   "cell_type": "code",
   "execution_count": 18,
   "metadata": {},
   "outputs": [],
   "source": [
    "# converting burn days to a float\n",
    "fires['BURN_DAYS'] = fires['BURN_DAYS'].astype(dt.timedelta).map(lambda x: np.nan if pd.isnull(x) else x.days)"
   ]
  },
  {
   "cell_type": "code",
   "execution_count": 19,
   "metadata": {},
   "outputs": [],
   "source": [
    "# no need for the Disc Date and Cont Date columns\n",
    "del fires['DISCOVERY_DATE']\n",
    "del fires['CONT_DATE']"
   ]
  },
  {
   "cell_type": "code",
   "execution_count": 20,
   "metadata": {
    "scrolled": true
   },
   "outputs": [
    {
     "data": {
      "text/html": [
       "<div>\n",
       "<style scoped>\n",
       "    .dataframe tbody tr th:only-of-type {\n",
       "        vertical-align: middle;\n",
       "    }\n",
       "\n",
       "    .dataframe tbody tr th {\n",
       "        vertical-align: top;\n",
       "    }\n",
       "\n",
       "    .dataframe thead th {\n",
       "        text-align: right;\n",
       "    }\n",
       "</style>\n",
       "<table border=\"1\" class=\"dataframe\">\n",
       "  <thead>\n",
       "    <tr style=\"text-align: right;\">\n",
       "      <th></th>\n",
       "      <th>FIRE_NAME</th>\n",
       "      <th>FIRE_YEAR</th>\n",
       "      <th>STAT_CAUSE_DESCR</th>\n",
       "      <th>FIRE_SIZE</th>\n",
       "      <th>FIRE_SIZE_CLASS</th>\n",
       "      <th>LATITUDE</th>\n",
       "      <th>LONGITUDE</th>\n",
       "      <th>STATE</th>\n",
       "      <th>COUNTY</th>\n",
       "      <th>D_DATE</th>\n",
       "      <th>D_MONTH</th>\n",
       "      <th>D_DAY_OF_WEEK</th>\n",
       "      <th>C_DATE</th>\n",
       "      <th>BURN_DAYS</th>\n",
       "    </tr>\n",
       "  </thead>\n",
       "  <tbody>\n",
       "    <tr>\n",
       "      <th>0</th>\n",
       "      <td>FOUNTAIN</td>\n",
       "      <td>2005</td>\n",
       "      <td>Miscellaneous</td>\n",
       "      <td>0.10</td>\n",
       "      <td>A</td>\n",
       "      <td>40.036944</td>\n",
       "      <td>-121.005833</td>\n",
       "      <td>CA</td>\n",
       "      <td>63</td>\n",
       "      <td>2005-02-02</td>\n",
       "      <td>Feb</td>\n",
       "      <td>Wednesday</td>\n",
       "      <td>2005-02-02</td>\n",
       "      <td>0.0</td>\n",
       "    </tr>\n",
       "    <tr>\n",
       "      <th>1</th>\n",
       "      <td>PIGEON</td>\n",
       "      <td>2004</td>\n",
       "      <td>Lightning</td>\n",
       "      <td>0.25</td>\n",
       "      <td>A</td>\n",
       "      <td>38.933056</td>\n",
       "      <td>-120.404444</td>\n",
       "      <td>CA</td>\n",
       "      <td>61</td>\n",
       "      <td>2004-05-12</td>\n",
       "      <td>May</td>\n",
       "      <td>Wednesday</td>\n",
       "      <td>2004-05-12</td>\n",
       "      <td>0.0</td>\n",
       "    </tr>\n",
       "    <tr>\n",
       "      <th>2</th>\n",
       "      <td>SLACK</td>\n",
       "      <td>2004</td>\n",
       "      <td>Debris Burning</td>\n",
       "      <td>0.10</td>\n",
       "      <td>A</td>\n",
       "      <td>38.984167</td>\n",
       "      <td>-120.735556</td>\n",
       "      <td>CA</td>\n",
       "      <td>17</td>\n",
       "      <td>2004-05-31</td>\n",
       "      <td>May</td>\n",
       "      <td>Monday</td>\n",
       "      <td>2004-05-31</td>\n",
       "      <td>0.0</td>\n",
       "    </tr>\n",
       "    <tr>\n",
       "      <th>3</th>\n",
       "      <td>DEER</td>\n",
       "      <td>2004</td>\n",
       "      <td>Lightning</td>\n",
       "      <td>0.10</td>\n",
       "      <td>A</td>\n",
       "      <td>38.559167</td>\n",
       "      <td>-119.913333</td>\n",
       "      <td>CA</td>\n",
       "      <td>3</td>\n",
       "      <td>2004-06-28</td>\n",
       "      <td>Jun</td>\n",
       "      <td>Monday</td>\n",
       "      <td>2004-07-03</td>\n",
       "      <td>5.0</td>\n",
       "    </tr>\n",
       "    <tr>\n",
       "      <th>4</th>\n",
       "      <td>STEVENOT</td>\n",
       "      <td>2004</td>\n",
       "      <td>Lightning</td>\n",
       "      <td>0.10</td>\n",
       "      <td>A</td>\n",
       "      <td>38.559167</td>\n",
       "      <td>-119.933056</td>\n",
       "      <td>CA</td>\n",
       "      <td>3</td>\n",
       "      <td>2004-06-28</td>\n",
       "      <td>Jun</td>\n",
       "      <td>Monday</td>\n",
       "      <td>2004-07-03</td>\n",
       "      <td>5.0</td>\n",
       "    </tr>\n",
       "  </tbody>\n",
       "</table>\n",
       "</div>"
      ],
      "text/plain": [
       "  FIRE_NAME  FIRE_YEAR STAT_CAUSE_DESCR  FIRE_SIZE FIRE_SIZE_CLASS   LATITUDE  \\\n",
       "0  FOUNTAIN       2005    Miscellaneous       0.10               A  40.036944   \n",
       "1    PIGEON       2004        Lightning       0.25               A  38.933056   \n",
       "2     SLACK       2004   Debris Burning       0.10               A  38.984167   \n",
       "3      DEER       2004        Lightning       0.10               A  38.559167   \n",
       "4  STEVENOT       2004        Lightning       0.10               A  38.559167   \n",
       "\n",
       "    LONGITUDE STATE COUNTY     D_DATE D_MONTH D_DAY_OF_WEEK     C_DATE  \\\n",
       "0 -121.005833    CA     63 2005-02-02     Feb     Wednesday 2005-02-02   \n",
       "1 -120.404444    CA     61 2004-05-12     May     Wednesday 2004-05-12   \n",
       "2 -120.735556    CA     17 2004-05-31     May        Monday 2004-05-31   \n",
       "3 -119.913333    CA      3 2004-06-28     Jun        Monday 2004-07-03   \n",
       "4 -119.933056    CA      3 2004-06-28     Jun        Monday 2004-07-03   \n",
       "\n",
       "   BURN_DAYS  \n",
       "0        0.0  \n",
       "1        0.0  \n",
       "2        0.0  \n",
       "3        5.0  \n",
       "4        5.0  "
      ]
     },
     "execution_count": 20,
     "metadata": {},
     "output_type": "execute_result"
    }
   ],
   "source": [
    "fires.head()"
   ]
  },
  {
   "cell_type": "code",
   "execution_count": 21,
   "metadata": {
    "scrolled": true
   },
   "outputs": [
    {
     "data": {
      "text/plain": [
       "0.0       806199\n",
       "1.0       104954\n",
       "2.0        24476\n",
       "3.0        11641\n",
       "4.0         6772\n",
       "5.0         4671\n",
       "6.0         3437\n",
       "7.0         2874\n",
       "8.0         2046\n",
       "9.0         1689\n",
       "10.0        1566\n",
       "11.0        1248\n",
       "12.0        1016\n",
       "13.0         850\n",
       "14.0         750\n",
       "15.0         718\n",
       "16.0         579\n",
       "17.0         596\n",
       "18.0         515\n",
       "19.0         444\n",
       "20.0         433\n",
       "21.0         393\n",
       "22.0         361\n",
       "23.0         325\n",
       "24.0         280\n",
       "25.0         282\n",
       "26.0         278\n",
       "27.0         283\n",
       "28.0         263\n",
       "29.0         233\n",
       "           ...  \n",
       "365.0         40\n",
       "366.0         19\n",
       "367.0          2\n",
       "368.0          1\n",
       "369.0          1\n",
       "370.0          2\n",
       "371.0          3\n",
       "374.0          2\n",
       "375.0          1\n",
       "378.0          1\n",
       "379.0          1\n",
       "397.0          1\n",
       "730.0          2\n",
       "731.0          4\n",
       "732.0          1\n",
       "735.0          2\n",
       "1096.0         7\n",
       "1097.0         1\n",
       "1101.0         1\n",
       "1461.0         3\n",
       "1464.0         1\n",
       "1826.0         2\n",
       "1827.0         2\n",
       "1881.0         1\n",
       "2557.0         2\n",
       "2558.0         1\n",
       "3287.0         2\n",
       "3652.0         1\n",
       "3653.0         4\n",
       "4018.0         1\n",
       "Name: BURN_DAYS, Length: 314, dtype: int64"
      ]
     },
     "execution_count": 21,
     "metadata": {},
     "output_type": "execute_result"
    }
   ],
   "source": [
    "# looking at # of burn days\n",
    "fires['BURN_DAYS'].value_counts().sort_index()"
   ]
  },
  {
   "cell_type": "code",
   "execution_count": 22,
   "metadata": {},
   "outputs": [
    {
     "data": {
      "text/html": [
       "<div>\n",
       "<style scoped>\n",
       "    .dataframe tbody tr th:only-of-type {\n",
       "        vertical-align: middle;\n",
       "    }\n",
       "\n",
       "    .dataframe tbody tr th {\n",
       "        vertical-align: top;\n",
       "    }\n",
       "\n",
       "    .dataframe thead th {\n",
       "        text-align: right;\n",
       "    }\n",
       "</style>\n",
       "<table border=\"1\" class=\"dataframe\">\n",
       "  <thead>\n",
       "    <tr style=\"text-align: right;\">\n",
       "      <th></th>\n",
       "      <th>FIRE_NAME</th>\n",
       "      <th>FIRE_YEAR</th>\n",
       "      <th>STAT_CAUSE_DESCR</th>\n",
       "      <th>FIRE_SIZE</th>\n",
       "      <th>FIRE_SIZE_CLASS</th>\n",
       "      <th>LATITUDE</th>\n",
       "      <th>LONGITUDE</th>\n",
       "      <th>STATE</th>\n",
       "      <th>COUNTY</th>\n",
       "      <th>D_DATE</th>\n",
       "      <th>D_MONTH</th>\n",
       "      <th>D_DAY_OF_WEEK</th>\n",
       "      <th>C_DATE</th>\n",
       "      <th>BURN_DAYS</th>\n",
       "    </tr>\n",
       "  </thead>\n",
       "  <tbody>\n",
       "    <tr>\n",
       "      <th>132471</th>\n",
       "      <td>WATTERMILL</td>\n",
       "      <td>2000</td>\n",
       "      <td>Debris Burning</td>\n",
       "      <td>0.10</td>\n",
       "      <td>A</td>\n",
       "      <td>43.863889</td>\n",
       "      <td>-85.804167</td>\n",
       "      <td>MI</td>\n",
       "      <td>085</td>\n",
       "      <td>2000-04-14</td>\n",
       "      <td>Apr</td>\n",
       "      <td>Friday</td>\n",
       "      <td>2002-04-14</td>\n",
       "      <td>730.0</td>\n",
       "    </tr>\n",
       "    <tr>\n",
       "      <th>372614</th>\n",
       "      <td>NO NAME 83</td>\n",
       "      <td>2008</td>\n",
       "      <td>Smoking</td>\n",
       "      <td>0.10</td>\n",
       "      <td>A</td>\n",
       "      <td>33.798000</td>\n",
       "      <td>-116.301000</td>\n",
       "      <td>CA</td>\n",
       "      <td>None</td>\n",
       "      <td>2008-02-18</td>\n",
       "      <td>Feb</td>\n",
       "      <td>Monday</td>\n",
       "      <td>2009-02-18</td>\n",
       "      <td>366.0</td>\n",
       "    </tr>\n",
       "    <tr>\n",
       "      <th>372657</th>\n",
       "      <td>NO NAM 19</td>\n",
       "      <td>2008</td>\n",
       "      <td>Miscellaneous</td>\n",
       "      <td>0.10</td>\n",
       "      <td>A</td>\n",
       "      <td>32.669000</td>\n",
       "      <td>-116.824000</td>\n",
       "      <td>CA</td>\n",
       "      <td>None</td>\n",
       "      <td>2008-01-28</td>\n",
       "      <td>Jan</td>\n",
       "      <td>Monday</td>\n",
       "      <td>2009-01-28</td>\n",
       "      <td>366.0</td>\n",
       "    </tr>\n",
       "    <tr>\n",
       "      <th>716180</th>\n",
       "      <td>SNAG</td>\n",
       "      <td>2004</td>\n",
       "      <td>Lightning</td>\n",
       "      <td>0.10</td>\n",
       "      <td>A</td>\n",
       "      <td>43.162210</td>\n",
       "      <td>-121.891280</td>\n",
       "      <td>OR</td>\n",
       "      <td>18</td>\n",
       "      <td>2004-08-14</td>\n",
       "      <td>Aug</td>\n",
       "      <td>Saturday</td>\n",
       "      <td>2005-08-15</td>\n",
       "      <td>366.0</td>\n",
       "    </tr>\n",
       "    <tr>\n",
       "      <th>720314</th>\n",
       "      <td>TOWER</td>\n",
       "      <td>2000</td>\n",
       "      <td>Campfire</td>\n",
       "      <td>0.01</td>\n",
       "      <td>A</td>\n",
       "      <td>44.031730</td>\n",
       "      <td>-122.904520</td>\n",
       "      <td>OR</td>\n",
       "      <td>20</td>\n",
       "      <td>2000-07-06</td>\n",
       "      <td>Jul</td>\n",
       "      <td>Thursday</td>\n",
       "      <td>2007-07-07</td>\n",
       "      <td>2557.0</td>\n",
       "    </tr>\n",
       "    <tr>\n",
       "      <th>725676</th>\n",
       "      <td>SQUAW VALLEY #2</td>\n",
       "      <td>2002</td>\n",
       "      <td>Debris Burning</td>\n",
       "      <td>0.25</td>\n",
       "      <td>A</td>\n",
       "      <td>42.501090</td>\n",
       "      <td>-124.369460</td>\n",
       "      <td>OR</td>\n",
       "      <td>8</td>\n",
       "      <td>2002-10-31</td>\n",
       "      <td>Oct</td>\n",
       "      <td>Thursday</td>\n",
       "      <td>2007-10-31</td>\n",
       "      <td>1826.0</td>\n",
       "    </tr>\n",
       "    <tr>\n",
       "      <th>744205</th>\n",
       "      <td>None</td>\n",
       "      <td>1992</td>\n",
       "      <td>Missing/Undefined</td>\n",
       "      <td>0.20</td>\n",
       "      <td>A</td>\n",
       "      <td>34.358333</td>\n",
       "      <td>-79.508333</td>\n",
       "      <td>SC</td>\n",
       "      <td>33</td>\n",
       "      <td>1992-05-27</td>\n",
       "      <td>May</td>\n",
       "      <td>Wednesday</td>\n",
       "      <td>1997-05-28</td>\n",
       "      <td>1827.0</td>\n",
       "    </tr>\n",
       "    <tr>\n",
       "      <th>1747769</th>\n",
       "      <td>WA-FA-001</td>\n",
       "      <td>2014</td>\n",
       "      <td>Campfire</td>\n",
       "      <td>0.10</td>\n",
       "      <td>A</td>\n",
       "      <td>37.088696</td>\n",
       "      <td>-113.638745</td>\n",
       "      <td>UT</td>\n",
       "      <td>WASHINGTON</td>\n",
       "      <td>2014-05-06</td>\n",
       "      <td>May</td>\n",
       "      <td>Tuesday</td>\n",
       "      <td>2015-05-08</td>\n",
       "      <td>367.0</td>\n",
       "    </tr>\n",
       "    <tr>\n",
       "      <th>758718</th>\n",
       "      <td>ROCKY CREEK</td>\n",
       "      <td>2003</td>\n",
       "      <td>Smoking</td>\n",
       "      <td>0.25</td>\n",
       "      <td>A</td>\n",
       "      <td>44.775480</td>\n",
       "      <td>-124.060610</td>\n",
       "      <td>OR</td>\n",
       "      <td>21</td>\n",
       "      <td>2003-07-05</td>\n",
       "      <td>Jul</td>\n",
       "      <td>Saturday</td>\n",
       "      <td>2005-07-05</td>\n",
       "      <td>731.0</td>\n",
       "    </tr>\n",
       "    <tr>\n",
       "      <th>771282</th>\n",
       "      <td>ZUNI #1</td>\n",
       "      <td>1999</td>\n",
       "      <td>Children</td>\n",
       "      <td>0.20</td>\n",
       "      <td>A</td>\n",
       "      <td>44.002470</td>\n",
       "      <td>-121.376830</td>\n",
       "      <td>OR</td>\n",
       "      <td>17</td>\n",
       "      <td>1999-07-12</td>\n",
       "      <td>Jul</td>\n",
       "      <td>Monday</td>\n",
       "      <td>2000-07-12</td>\n",
       "      <td>366.0</td>\n",
       "    </tr>\n",
       "    <tr>\n",
       "      <th>772906</th>\n",
       "      <td>LARKIN GREEN 2</td>\n",
       "      <td>2007</td>\n",
       "      <td>Debris Burning</td>\n",
       "      <td>0.05</td>\n",
       "      <td>A</td>\n",
       "      <td>46.163330</td>\n",
       "      <td>-123.475830</td>\n",
       "      <td>OR</td>\n",
       "      <td>4</td>\n",
       "      <td>2007-10-17</td>\n",
       "      <td>Oct</td>\n",
       "      <td>Wednesday</td>\n",
       "      <td>2009-10-17</td>\n",
       "      <td>731.0</td>\n",
       "    </tr>\n",
       "    <tr>\n",
       "      <th>1062331</th>\n",
       "      <td>SHEEP</td>\n",
       "      <td>2003</td>\n",
       "      <td>Lightning</td>\n",
       "      <td>0.10</td>\n",
       "      <td>A</td>\n",
       "      <td>33.985000</td>\n",
       "      <td>-111.533611</td>\n",
       "      <td>AZ</td>\n",
       "      <td>None</td>\n",
       "      <td>2003-08-13</td>\n",
       "      <td>Aug</td>\n",
       "      <td>Wednesday</td>\n",
       "      <td>2004-08-13</td>\n",
       "      <td>366.0</td>\n",
       "    </tr>\n",
       "    <tr>\n",
       "      <th>1146209</th>\n",
       "      <td>TIMBER RD #2</td>\n",
       "      <td>1998</td>\n",
       "      <td>Campfire</td>\n",
       "      <td>0.01</td>\n",
       "      <td>A</td>\n",
       "      <td>44.329350</td>\n",
       "      <td>-122.927790</td>\n",
       "      <td>OR</td>\n",
       "      <td>22</td>\n",
       "      <td>1998-09-12</td>\n",
       "      <td>Sep</td>\n",
       "      <td>Saturday</td>\n",
       "      <td>2009-09-12</td>\n",
       "      <td>4018.0</td>\n",
       "    </tr>\n",
       "    <tr>\n",
       "      <th>1312880</th>\n",
       "      <td>COPPER</td>\n",
       "      <td>2006</td>\n",
       "      <td>Campfire</td>\n",
       "      <td>0.10</td>\n",
       "      <td>A</td>\n",
       "      <td>44.308333</td>\n",
       "      <td>-74.371667</td>\n",
       "      <td>NY</td>\n",
       "      <td>FRANKLIN</td>\n",
       "      <td>2006-09-05</td>\n",
       "      <td>Sep</td>\n",
       "      <td>Tuesday</td>\n",
       "      <td>2007-09-06</td>\n",
       "      <td>366.0</td>\n",
       "    </tr>\n",
       "    <tr>\n",
       "      <th>1333890</th>\n",
       "      <td>None</td>\n",
       "      <td>2003</td>\n",
       "      <td>Miscellaneous</td>\n",
       "      <td>0.10</td>\n",
       "      <td>A</td>\n",
       "      <td>44.630456</td>\n",
       "      <td>-74.844806</td>\n",
       "      <td>NY</td>\n",
       "      <td>ST LAWRENCE</td>\n",
       "      <td>2003-03-28</td>\n",
       "      <td>Mar</td>\n",
       "      <td>Friday</td>\n",
       "      <td>2004-04-10</td>\n",
       "      <td>379.0</td>\n",
       "    </tr>\n",
       "    <tr>\n",
       "      <th>1351259</th>\n",
       "      <td>None</td>\n",
       "      <td>2000</td>\n",
       "      <td>Miscellaneous</td>\n",
       "      <td>0.10</td>\n",
       "      <td>A</td>\n",
       "      <td>42.066412</td>\n",
       "      <td>-76.644236</td>\n",
       "      <td>NY</td>\n",
       "      <td>CHEMUNG</td>\n",
       "      <td>2000-03-21</td>\n",
       "      <td>Mar</td>\n",
       "      <td>Tuesday</td>\n",
       "      <td>2009-03-21</td>\n",
       "      <td>3287.0</td>\n",
       "    </tr>\n",
       "    <tr>\n",
       "      <th>1363624</th>\n",
       "      <td>None</td>\n",
       "      <td>1996</td>\n",
       "      <td>Arson</td>\n",
       "      <td>0.10</td>\n",
       "      <td>A</td>\n",
       "      <td>38.350000</td>\n",
       "      <td>-78.633330</td>\n",
       "      <td>VA</td>\n",
       "      <td>ROCKINGHAM</td>\n",
       "      <td>1996-10-31</td>\n",
       "      <td>Oct</td>\n",
       "      <td>Thursday</td>\n",
       "      <td>2000-10-31</td>\n",
       "      <td>1461.0</td>\n",
       "    </tr>\n",
       "    <tr>\n",
       "      <th>1577348</th>\n",
       "      <td>GLADE</td>\n",
       "      <td>2012</td>\n",
       "      <td>Missing/Undefined</td>\n",
       "      <td>0.10</td>\n",
       "      <td>A</td>\n",
       "      <td>36.819700</td>\n",
       "      <td>-108.150300</td>\n",
       "      <td>NM</td>\n",
       "      <td>San Juan</td>\n",
       "      <td>2012-12-03</td>\n",
       "      <td>Dec</td>\n",
       "      <td>Monday</td>\n",
       "      <td>2013-12-04</td>\n",
       "      <td>366.0</td>\n",
       "    </tr>\n",
       "    <tr>\n",
       "      <th>365708</th>\n",
       "      <td>MIDWAY</td>\n",
       "      <td>2002</td>\n",
       "      <td>Smoking</td>\n",
       "      <td>0.10</td>\n",
       "      <td>A</td>\n",
       "      <td>37.048126</td>\n",
       "      <td>-120.753342</td>\n",
       "      <td>CA</td>\n",
       "      <td>None</td>\n",
       "      <td>2002-09-12</td>\n",
       "      <td>Sep</td>\n",
       "      <td>Thursday</td>\n",
       "      <td>2007-09-12</td>\n",
       "      <td>1826.0</td>\n",
       "    </tr>\n",
       "    <tr>\n",
       "      <th>362642</th>\n",
       "      <td>TORRES</td>\n",
       "      <td>1999</td>\n",
       "      <td>Miscellaneous</td>\n",
       "      <td>0.10</td>\n",
       "      <td>A</td>\n",
       "      <td>35.899314</td>\n",
       "      <td>-119.276954</td>\n",
       "      <td>CA</td>\n",
       "      <td>None</td>\n",
       "      <td>1999-08-11</td>\n",
       "      <td>Aug</td>\n",
       "      <td>Wednesday</td>\n",
       "      <td>2009-08-11</td>\n",
       "      <td>3653.0</td>\n",
       "    </tr>\n",
       "    <tr>\n",
       "      <th>748653</th>\n",
       "      <td>SURGE</td>\n",
       "      <td>1997</td>\n",
       "      <td>Lightning</td>\n",
       "      <td>0.10</td>\n",
       "      <td>A</td>\n",
       "      <td>42.490630</td>\n",
       "      <td>-121.166320</td>\n",
       "      <td>OR</td>\n",
       "      <td>18</td>\n",
       "      <td>1997-08-10</td>\n",
       "      <td>Aug</td>\n",
       "      <td>Sunday</td>\n",
       "      <td>2007-08-10</td>\n",
       "      <td>3652.0</td>\n",
       "    </tr>\n",
       "    <tr>\n",
       "      <th>1782787</th>\n",
       "      <td>MONTE CARLO</td>\n",
       "      <td>2014</td>\n",
       "      <td>Miscellaneous</td>\n",
       "      <td>0.10</td>\n",
       "      <td>A</td>\n",
       "      <td>40.850472</td>\n",
       "      <td>-115.781791</td>\n",
       "      <td>NV</td>\n",
       "      <td>Elko</td>\n",
       "      <td>2014-04-13</td>\n",
       "      <td>Apr</td>\n",
       "      <td>Sunday</td>\n",
       "      <td>2015-05-15</td>\n",
       "      <td>397.0</td>\n",
       "    </tr>\n",
       "    <tr>\n",
       "      <th>298607</th>\n",
       "      <td>AVENUE</td>\n",
       "      <td>2004</td>\n",
       "      <td>Miscellaneous</td>\n",
       "      <td>0.10</td>\n",
       "      <td>A</td>\n",
       "      <td>32.730300</td>\n",
       "      <td>-114.625000</td>\n",
       "      <td>CA</td>\n",
       "      <td>None</td>\n",
       "      <td>2004-01-23</td>\n",
       "      <td>Jan</td>\n",
       "      <td>Friday</td>\n",
       "      <td>2005-01-31</td>\n",
       "      <td>374.0</td>\n",
       "    </tr>\n",
       "    <tr>\n",
       "      <th>135209</th>\n",
       "      <td>SHANKS GULCH</td>\n",
       "      <td>2001</td>\n",
       "      <td>Miscellaneous</td>\n",
       "      <td>0.10</td>\n",
       "      <td>A</td>\n",
       "      <td>44.060000</td>\n",
       "      <td>-103.383333</td>\n",
       "      <td>SD</td>\n",
       "      <td>None</td>\n",
       "      <td>2001-01-07</td>\n",
       "      <td>Jan</td>\n",
       "      <td>Sunday</td>\n",
       "      <td>2002-01-08</td>\n",
       "      <td>366.0</td>\n",
       "    </tr>\n",
       "    <tr>\n",
       "      <th>151618</th>\n",
       "      <td>CARP</td>\n",
       "      <td>2002</td>\n",
       "      <td>Lightning</td>\n",
       "      <td>0.10</td>\n",
       "      <td>A</td>\n",
       "      <td>41.883056</td>\n",
       "      <td>-111.527500</td>\n",
       "      <td>UT</td>\n",
       "      <td>None</td>\n",
       "      <td>2002-08-14</td>\n",
       "      <td>Aug</td>\n",
       "      <td>Wednesday</td>\n",
       "      <td>2003-08-16</td>\n",
       "      <td>367.0</td>\n",
       "    </tr>\n",
       "    <tr>\n",
       "      <th>325491</th>\n",
       "      <td>EAGLE ASSIST 5</td>\n",
       "      <td>2005</td>\n",
       "      <td>Lightning</td>\n",
       "      <td>0.10</td>\n",
       "      <td>A</td>\n",
       "      <td>39.658000</td>\n",
       "      <td>-106.860800</td>\n",
       "      <td>CO</td>\n",
       "      <td>Eagle</td>\n",
       "      <td>2005-08-25</td>\n",
       "      <td>Aug</td>\n",
       "      <td>Thursday</td>\n",
       "      <td>2009-08-28</td>\n",
       "      <td>1464.0</td>\n",
       "    </tr>\n",
       "    <tr>\n",
       "      <th>186216</th>\n",
       "      <td>HOCHUNK 3</td>\n",
       "      <td>1998</td>\n",
       "      <td>Arson</td>\n",
       "      <td>0.10</td>\n",
       "      <td>A</td>\n",
       "      <td>44.349400</td>\n",
       "      <td>-90.759900</td>\n",
       "      <td>WI</td>\n",
       "      <td>None</td>\n",
       "      <td>1998-07-27</td>\n",
       "      <td>Jul</td>\n",
       "      <td>Monday</td>\n",
       "      <td>2002-07-27</td>\n",
       "      <td>1461.0</td>\n",
       "    </tr>\n",
       "    <tr>\n",
       "      <th>345831</th>\n",
       "      <td>RANGECREEK</td>\n",
       "      <td>2002</td>\n",
       "      <td>Lightning</td>\n",
       "      <td>0.10</td>\n",
       "      <td>A</td>\n",
       "      <td>39.467700</td>\n",
       "      <td>-110.227700</td>\n",
       "      <td>UT</td>\n",
       "      <td>Emery</td>\n",
       "      <td>2002-07-23</td>\n",
       "      <td>Jul</td>\n",
       "      <td>Tuesday</td>\n",
       "      <td>2003-07-24</td>\n",
       "      <td>366.0</td>\n",
       "    </tr>\n",
       "    <tr>\n",
       "      <th>330606</th>\n",
       "      <td>FRISBEE</td>\n",
       "      <td>2003</td>\n",
       "      <td>Campfire</td>\n",
       "      <td>0.10</td>\n",
       "      <td>A</td>\n",
       "      <td>46.663300</td>\n",
       "      <td>-112.076400</td>\n",
       "      <td>MT</td>\n",
       "      <td>Lewis and Clark</td>\n",
       "      <td>2003-05-26</td>\n",
       "      <td>May</td>\n",
       "      <td>Monday</td>\n",
       "      <td>2004-05-26</td>\n",
       "      <td>366.0</td>\n",
       "    </tr>\n",
       "    <tr>\n",
       "      <th>1227789</th>\n",
       "      <td>30235</td>\n",
       "      <td>2003</td>\n",
       "      <td>Debris Burning</td>\n",
       "      <td>7.00</td>\n",
       "      <td>B</td>\n",
       "      <td>35.983867</td>\n",
       "      <td>-94.712433</td>\n",
       "      <td>OK</td>\n",
       "      <td>Adair</td>\n",
       "      <td>2003-03-14</td>\n",
       "      <td>Mar</td>\n",
       "      <td>Friday</td>\n",
       "      <td>2005-03-14</td>\n",
       "      <td>731.0</td>\n",
       "    </tr>\n",
       "    <tr>\n",
       "      <th>...</th>\n",
       "      <td>...</td>\n",
       "      <td>...</td>\n",
       "      <td>...</td>\n",
       "      <td>...</td>\n",
       "      <td>...</td>\n",
       "      <td>...</td>\n",
       "      <td>...</td>\n",
       "      <td>...</td>\n",
       "      <td>...</td>\n",
       "      <td>...</td>\n",
       "      <td>...</td>\n",
       "      <td>...</td>\n",
       "      <td>...</td>\n",
       "      <td>...</td>\n",
       "    </tr>\n",
       "    <tr>\n",
       "      <th>294215</th>\n",
       "      <td>NAICHE</td>\n",
       "      <td>2006</td>\n",
       "      <td>Miscellaneous</td>\n",
       "      <td>0.30</td>\n",
       "      <td>B</td>\n",
       "      <td>33.256500</td>\n",
       "      <td>-105.734200</td>\n",
       "      <td>NM</td>\n",
       "      <td>None</td>\n",
       "      <td>2006-06-15</td>\n",
       "      <td>Jun</td>\n",
       "      <td>Thursday</td>\n",
       "      <td>2009-06-15</td>\n",
       "      <td>1096.0</td>\n",
       "    </tr>\n",
       "    <tr>\n",
       "      <th>362655</th>\n",
       "      <td>COCHARAN</td>\n",
       "      <td>1999</td>\n",
       "      <td>Miscellaneous</td>\n",
       "      <td>0.50</td>\n",
       "      <td>B</td>\n",
       "      <td>35.899284</td>\n",
       "      <td>-119.294765</td>\n",
       "      <td>CA</td>\n",
       "      <td>None</td>\n",
       "      <td>1999-07-11</td>\n",
       "      <td>Jul</td>\n",
       "      <td>Sunday</td>\n",
       "      <td>2009-07-11</td>\n",
       "      <td>3653.0</td>\n",
       "    </tr>\n",
       "    <tr>\n",
       "      <th>368029</th>\n",
       "      <td>PIONEER</td>\n",
       "      <td>2004</td>\n",
       "      <td>Debris Burning</td>\n",
       "      <td>0.40</td>\n",
       "      <td>B</td>\n",
       "      <td>32.710556</td>\n",
       "      <td>-116.888889</td>\n",
       "      <td>CA</td>\n",
       "      <td>None</td>\n",
       "      <td>2004-12-04</td>\n",
       "      <td>Dec</td>\n",
       "      <td>Saturday</td>\n",
       "      <td>2008-12-04</td>\n",
       "      <td>1461.0</td>\n",
       "    </tr>\n",
       "    <tr>\n",
       "      <th>349517</th>\n",
       "      <td>POWERLINE</td>\n",
       "      <td>2006</td>\n",
       "      <td>Powerline</td>\n",
       "      <td>1.00</td>\n",
       "      <td>B</td>\n",
       "      <td>43.386970</td>\n",
       "      <td>-106.267440</td>\n",
       "      <td>WY</td>\n",
       "      <td>Natrona</td>\n",
       "      <td>2006-08-03</td>\n",
       "      <td>Aug</td>\n",
       "      <td>Thursday</td>\n",
       "      <td>2009-08-03</td>\n",
       "      <td>1096.0</td>\n",
       "    </tr>\n",
       "    <tr>\n",
       "      <th>347121</th>\n",
       "      <td>FIF 42</td>\n",
       "      <td>2003</td>\n",
       "      <td>Lightning</td>\n",
       "      <td>0.50</td>\n",
       "      <td>B</td>\n",
       "      <td>38.598900</td>\n",
       "      <td>-112.367500</td>\n",
       "      <td>UT</td>\n",
       "      <td>Sevier</td>\n",
       "      <td>2003-08-22</td>\n",
       "      <td>Aug</td>\n",
       "      <td>Friday</td>\n",
       "      <td>2005-08-26</td>\n",
       "      <td>735.0</td>\n",
       "    </tr>\n",
       "    <tr>\n",
       "      <th>333687</th>\n",
       "      <td>WORKHORSE</td>\n",
       "      <td>2004</td>\n",
       "      <td>Lightning</td>\n",
       "      <td>7.00</td>\n",
       "      <td>B</td>\n",
       "      <td>40.896100</td>\n",
       "      <td>-116.857200</td>\n",
       "      <td>NV</td>\n",
       "      <td>Elko</td>\n",
       "      <td>2004-06-27</td>\n",
       "      <td>Jun</td>\n",
       "      <td>Sunday</td>\n",
       "      <td>2007-06-28</td>\n",
       "      <td>1096.0</td>\n",
       "    </tr>\n",
       "    <tr>\n",
       "      <th>731898</th>\n",
       "      <td>None</td>\n",
       "      <td>1995</td>\n",
       "      <td>Missing/Undefined</td>\n",
       "      <td>4.00</td>\n",
       "      <td>B</td>\n",
       "      <td>33.720833</td>\n",
       "      <td>-81.629167</td>\n",
       "      <td>SC</td>\n",
       "      <td>2</td>\n",
       "      <td>1995-05-08</td>\n",
       "      <td>May</td>\n",
       "      <td>Monday</td>\n",
       "      <td>1998-05-08</td>\n",
       "      <td>1096.0</td>\n",
       "    </tr>\n",
       "    <tr>\n",
       "      <th>1228032</th>\n",
       "      <td>30520</td>\n",
       "      <td>2003</td>\n",
       "      <td>Arson</td>\n",
       "      <td>1.00</td>\n",
       "      <td>B</td>\n",
       "      <td>36.028083</td>\n",
       "      <td>-95.251983</td>\n",
       "      <td>OK</td>\n",
       "      <td>Wagoner</td>\n",
       "      <td>2003-04-14</td>\n",
       "      <td>Apr</td>\n",
       "      <td>Monday</td>\n",
       "      <td>2004-04-14</td>\n",
       "      <td>366.0</td>\n",
       "    </tr>\n",
       "    <tr>\n",
       "      <th>294216</th>\n",
       "      <td>WHITETAIL SUMMIT</td>\n",
       "      <td>2006</td>\n",
       "      <td>Miscellaneous</td>\n",
       "      <td>0.30</td>\n",
       "      <td>B</td>\n",
       "      <td>33.247000</td>\n",
       "      <td>-105.613300</td>\n",
       "      <td>NM</td>\n",
       "      <td>None</td>\n",
       "      <td>2006-06-23</td>\n",
       "      <td>Jun</td>\n",
       "      <td>Friday</td>\n",
       "      <td>2009-06-24</td>\n",
       "      <td>1097.0</td>\n",
       "    </tr>\n",
       "    <tr>\n",
       "      <th>256371</th>\n",
       "      <td>TRACKS</td>\n",
       "      <td>2003</td>\n",
       "      <td>Arson</td>\n",
       "      <td>10.00</td>\n",
       "      <td>C</td>\n",
       "      <td>45.670000</td>\n",
       "      <td>-100.540700</td>\n",
       "      <td>SD</td>\n",
       "      <td>None</td>\n",
       "      <td>2003-05-14</td>\n",
       "      <td>May</td>\n",
       "      <td>Wednesday</td>\n",
       "      <td>2004-05-14</td>\n",
       "      <td>366.0</td>\n",
       "    </tr>\n",
       "    <tr>\n",
       "      <th>1286275</th>\n",
       "      <td>WILDWOOD</td>\n",
       "      <td>2010</td>\n",
       "      <td>Miscellaneous</td>\n",
       "      <td>48.20</td>\n",
       "      <td>C</td>\n",
       "      <td>44.456611</td>\n",
       "      <td>-105.444111</td>\n",
       "      <td>WY</td>\n",
       "      <td>Campbell</td>\n",
       "      <td>2010-08-29</td>\n",
       "      <td>Aug</td>\n",
       "      <td>Sunday</td>\n",
       "      <td>2011-09-11</td>\n",
       "      <td>378.0</td>\n",
       "    </tr>\n",
       "    <tr>\n",
       "      <th>738317</th>\n",
       "      <td>None</td>\n",
       "      <td>1994</td>\n",
       "      <td>Missing/Undefined</td>\n",
       "      <td>52.00</td>\n",
       "      <td>C</td>\n",
       "      <td>32.220833</td>\n",
       "      <td>-81.008333</td>\n",
       "      <td>SC</td>\n",
       "      <td>27</td>\n",
       "      <td>1994-02-27</td>\n",
       "      <td>Feb</td>\n",
       "      <td>Sunday</td>\n",
       "      <td>1999-02-28</td>\n",
       "      <td>1827.0</td>\n",
       "    </tr>\n",
       "    <tr>\n",
       "      <th>1276621</th>\n",
       "      <td>None</td>\n",
       "      <td>2002</td>\n",
       "      <td>Debris Burning</td>\n",
       "      <td>10.00</td>\n",
       "      <td>C</td>\n",
       "      <td>40.017222</td>\n",
       "      <td>-79.827778</td>\n",
       "      <td>PA</td>\n",
       "      <td>FAYETTE</td>\n",
       "      <td>2002-03-19</td>\n",
       "      <td>Mar</td>\n",
       "      <td>Tuesday</td>\n",
       "      <td>2005-03-19</td>\n",
       "      <td>1096.0</td>\n",
       "    </tr>\n",
       "    <tr>\n",
       "      <th>365024</th>\n",
       "      <td>2100 CENTE</td>\n",
       "      <td>2001</td>\n",
       "      <td>Miscellaneous</td>\n",
       "      <td>25.00</td>\n",
       "      <td>C</td>\n",
       "      <td>38.937900</td>\n",
       "      <td>-85.423200</td>\n",
       "      <td>IN</td>\n",
       "      <td>None</td>\n",
       "      <td>2001-04-05</td>\n",
       "      <td>Apr</td>\n",
       "      <td>Thursday</td>\n",
       "      <td>2002-04-15</td>\n",
       "      <td>375.0</td>\n",
       "    </tr>\n",
       "    <tr>\n",
       "      <th>1063028</th>\n",
       "      <td>FOOT</td>\n",
       "      <td>2005</td>\n",
       "      <td>Miscellaneous</td>\n",
       "      <td>40.00</td>\n",
       "      <td>C</td>\n",
       "      <td>39.803889</td>\n",
       "      <td>-121.052500</td>\n",
       "      <td>CA</td>\n",
       "      <td>63</td>\n",
       "      <td>2005-07-06</td>\n",
       "      <td>Jul</td>\n",
       "      <td>Wednesday</td>\n",
       "      <td>2006-07-12</td>\n",
       "      <td>371.0</td>\n",
       "    </tr>\n",
       "    <tr>\n",
       "      <th>1286206</th>\n",
       "      <td>ADON ROAD</td>\n",
       "      <td>2010</td>\n",
       "      <td>Lightning</td>\n",
       "      <td>18.00</td>\n",
       "      <td>C</td>\n",
       "      <td>44.454340</td>\n",
       "      <td>-105.276150</td>\n",
       "      <td>WY</td>\n",
       "      <td>Campbell</td>\n",
       "      <td>2010-08-22</td>\n",
       "      <td>Aug</td>\n",
       "      <td>Sunday</td>\n",
       "      <td>2011-08-31</td>\n",
       "      <td>374.0</td>\n",
       "    </tr>\n",
       "    <tr>\n",
       "      <th>1059663</th>\n",
       "      <td>INDIAN RUN</td>\n",
       "      <td>2008</td>\n",
       "      <td>Miscellaneous</td>\n",
       "      <td>208.00</td>\n",
       "      <td>D</td>\n",
       "      <td>40.284167</td>\n",
       "      <td>-107.408333</td>\n",
       "      <td>CO</td>\n",
       "      <td>107</td>\n",
       "      <td>2008-10-02</td>\n",
       "      <td>Oct</td>\n",
       "      <td>Thursday</td>\n",
       "      <td>2009-10-03</td>\n",
       "      <td>366.0</td>\n",
       "    </tr>\n",
       "    <tr>\n",
       "      <th>1579611</th>\n",
       "      <td>SKULL</td>\n",
       "      <td>2012</td>\n",
       "      <td>Lightning</td>\n",
       "      <td>108.00</td>\n",
       "      <td>D</td>\n",
       "      <td>43.478810</td>\n",
       "      <td>-117.838110</td>\n",
       "      <td>OR</td>\n",
       "      <td>Malheur</td>\n",
       "      <td>2012-08-23</td>\n",
       "      <td>Aug</td>\n",
       "      <td>Thursday</td>\n",
       "      <td>2013-08-24</td>\n",
       "      <td>366.0</td>\n",
       "    </tr>\n",
       "    <tr>\n",
       "      <th>1579610</th>\n",
       "      <td>BIRCH CREEK</td>\n",
       "      <td>2012</td>\n",
       "      <td>Missing/Undefined</td>\n",
       "      <td>180.00</td>\n",
       "      <td>D</td>\n",
       "      <td>44.322200</td>\n",
       "      <td>-117.290000</td>\n",
       "      <td>OR</td>\n",
       "      <td>Malheur</td>\n",
       "      <td>2012-06-12</td>\n",
       "      <td>Jun</td>\n",
       "      <td>Tuesday</td>\n",
       "      <td>2013-06-13</td>\n",
       "      <td>366.0</td>\n",
       "    </tr>\n",
       "    <tr>\n",
       "      <th>1227849</th>\n",
       "      <td>30305</td>\n",
       "      <td>2003</td>\n",
       "      <td>Arson</td>\n",
       "      <td>250.00</td>\n",
       "      <td>D</td>\n",
       "      <td>36.035600</td>\n",
       "      <td>-94.743133</td>\n",
       "      <td>OK</td>\n",
       "      <td>Adair</td>\n",
       "      <td>2003-03-25</td>\n",
       "      <td>Mar</td>\n",
       "      <td>Tuesday</td>\n",
       "      <td>2005-03-25</td>\n",
       "      <td>731.0</td>\n",
       "    </tr>\n",
       "    <tr>\n",
       "      <th>305237</th>\n",
       "      <td>KILIOVILIK</td>\n",
       "      <td>2001</td>\n",
       "      <td>Lightning</td>\n",
       "      <td>100.00</td>\n",
       "      <td>D</td>\n",
       "      <td>66.566100</td>\n",
       "      <td>-157.519400</td>\n",
       "      <td>AK</td>\n",
       "      <td>None</td>\n",
       "      <td>2001-06-11</td>\n",
       "      <td>Jun</td>\n",
       "      <td>Monday</td>\n",
       "      <td>2004-06-16</td>\n",
       "      <td>1101.0</td>\n",
       "    </tr>\n",
       "    <tr>\n",
       "      <th>1324066</th>\n",
       "      <td>JIMS BRANCH</td>\n",
       "      <td>1994</td>\n",
       "      <td>Arson</td>\n",
       "      <td>158.00</td>\n",
       "      <td>D</td>\n",
       "      <td>37.511007</td>\n",
       "      <td>-81.349864</td>\n",
       "      <td>WV</td>\n",
       "      <td>Wyoming</td>\n",
       "      <td>1994-11-05</td>\n",
       "      <td>Nov</td>\n",
       "      <td>Saturday</td>\n",
       "      <td>1996-11-06</td>\n",
       "      <td>732.0</td>\n",
       "    </tr>\n",
       "    <tr>\n",
       "      <th>356156</th>\n",
       "      <td>BUENAVISTA</td>\n",
       "      <td>2000</td>\n",
       "      <td>Lightning</td>\n",
       "      <td>120.00</td>\n",
       "      <td>D</td>\n",
       "      <td>37.658900</td>\n",
       "      <td>-119.522800</td>\n",
       "      <td>CA</td>\n",
       "      <td>None</td>\n",
       "      <td>2000-08-07</td>\n",
       "      <td>Aug</td>\n",
       "      <td>Monday</td>\n",
       "      <td>2005-10-01</td>\n",
       "      <td>1881.0</td>\n",
       "    </tr>\n",
       "    <tr>\n",
       "      <th>1360116</th>\n",
       "      <td>COAL CREEK</td>\n",
       "      <td>2008</td>\n",
       "      <td>Missing/Undefined</td>\n",
       "      <td>320.00</td>\n",
       "      <td>E</td>\n",
       "      <td>34.940000</td>\n",
       "      <td>-94.866111</td>\n",
       "      <td>OK</td>\n",
       "      <td>Leflore</td>\n",
       "      <td>2008-01-21</td>\n",
       "      <td>Jan</td>\n",
       "      <td>Monday</td>\n",
       "      <td>2009-01-23</td>\n",
       "      <td>368.0</td>\n",
       "    </tr>\n",
       "    <tr>\n",
       "      <th>357487</th>\n",
       "      <td>ROAD 09-08 WF</td>\n",
       "      <td>2006</td>\n",
       "      <td>Arson</td>\n",
       "      <td>900.00</td>\n",
       "      <td>E</td>\n",
       "      <td>34.449700</td>\n",
       "      <td>-85.597800</td>\n",
       "      <td>AL</td>\n",
       "      <td>None</td>\n",
       "      <td>2006-03-05</td>\n",
       "      <td>Mar</td>\n",
       "      <td>Sunday</td>\n",
       "      <td>2008-03-09</td>\n",
       "      <td>735.0</td>\n",
       "    </tr>\n",
       "    <tr>\n",
       "      <th>1579684</th>\n",
       "      <td>HOPEWELL</td>\n",
       "      <td>2012</td>\n",
       "      <td>Missing/Undefined</td>\n",
       "      <td>741.00</td>\n",
       "      <td>E</td>\n",
       "      <td>40.213300</td>\n",
       "      <td>-75.761400</td>\n",
       "      <td>PA</td>\n",
       "      <td>None</td>\n",
       "      <td>2012-04-09</td>\n",
       "      <td>Apr</td>\n",
       "      <td>Monday</td>\n",
       "      <td>2013-04-14</td>\n",
       "      <td>370.0</td>\n",
       "    </tr>\n",
       "    <tr>\n",
       "      <th>1286202</th>\n",
       "      <td>None</td>\n",
       "      <td>2010</td>\n",
       "      <td>Lightning</td>\n",
       "      <td>453.00</td>\n",
       "      <td>E</td>\n",
       "      <td>43.254730</td>\n",
       "      <td>-105.202730</td>\n",
       "      <td>WY</td>\n",
       "      <td>Campbell</td>\n",
       "      <td>2010-08-19</td>\n",
       "      <td>Aug</td>\n",
       "      <td>Thursday</td>\n",
       "      <td>2011-08-25</td>\n",
       "      <td>371.0</td>\n",
       "    </tr>\n",
       "    <tr>\n",
       "      <th>1286272</th>\n",
       "      <td>THUNDER</td>\n",
       "      <td>2010</td>\n",
       "      <td>Miscellaneous</td>\n",
       "      <td>360.00</td>\n",
       "      <td>E</td>\n",
       "      <td>43.740000</td>\n",
       "      <td>-105.264870</td>\n",
       "      <td>WY</td>\n",
       "      <td>Campbell</td>\n",
       "      <td>2010-08-19</td>\n",
       "      <td>Aug</td>\n",
       "      <td>Thursday</td>\n",
       "      <td>2011-08-23</td>\n",
       "      <td>369.0</td>\n",
       "    </tr>\n",
       "    <tr>\n",
       "      <th>720670</th>\n",
       "      <td>SPENCE</td>\n",
       "      <td>1994</td>\n",
       "      <td>Arson</td>\n",
       "      <td>1005.00</td>\n",
       "      <td>F</td>\n",
       "      <td>42.335490</td>\n",
       "      <td>-121.965150</td>\n",
       "      <td>OR</td>\n",
       "      <td>18</td>\n",
       "      <td>1994-07-09</td>\n",
       "      <td>Jul</td>\n",
       "      <td>Saturday</td>\n",
       "      <td>1995-07-14</td>\n",
       "      <td>370.0</td>\n",
       "    </tr>\n",
       "    <tr>\n",
       "      <th>1572579</th>\n",
       "      <td>SIXTEEN COMPLEX</td>\n",
       "      <td>2012</td>\n",
       "      <td>Arson</td>\n",
       "      <td>17944.00</td>\n",
       "      <td>G</td>\n",
       "      <td>38.944440</td>\n",
       "      <td>-122.344500</td>\n",
       "      <td>CA</td>\n",
       "      <td>Colusa</td>\n",
       "      <td>2012-09-04</td>\n",
       "      <td>Sep</td>\n",
       "      <td>Tuesday</td>\n",
       "      <td>2013-09-10</td>\n",
       "      <td>371.0</td>\n",
       "    </tr>\n",
       "  </tbody>\n",
       "</table>\n",
       "<p>72 rows × 14 columns</p>\n",
       "</div>"
      ],
      "text/plain": [
       "                FIRE_NAME  FIRE_YEAR   STAT_CAUSE_DESCR  FIRE_SIZE  \\\n",
       "132471         WATTERMILL       2000     Debris Burning       0.10   \n",
       "372614         NO NAME 83       2008            Smoking       0.10   \n",
       "372657          NO NAM 19       2008      Miscellaneous       0.10   \n",
       "716180               SNAG       2004          Lightning       0.10   \n",
       "720314              TOWER       2000           Campfire       0.01   \n",
       "725676    SQUAW VALLEY #2       2002     Debris Burning       0.25   \n",
       "744205               None       1992  Missing/Undefined       0.20   \n",
       "1747769         WA-FA-001       2014           Campfire       0.10   \n",
       "758718        ROCKY CREEK       2003            Smoking       0.25   \n",
       "771282            ZUNI #1       1999           Children       0.20   \n",
       "772906     LARKIN GREEN 2       2007     Debris Burning       0.05   \n",
       "1062331             SHEEP       2003          Lightning       0.10   \n",
       "1146209      TIMBER RD #2       1998           Campfire       0.01   \n",
       "1312880            COPPER       2006           Campfire       0.10   \n",
       "1333890              None       2003      Miscellaneous       0.10   \n",
       "1351259              None       2000      Miscellaneous       0.10   \n",
       "1363624              None       1996              Arson       0.10   \n",
       "1577348             GLADE       2012  Missing/Undefined       0.10   \n",
       "365708             MIDWAY       2002            Smoking       0.10   \n",
       "362642             TORRES       1999      Miscellaneous       0.10   \n",
       "748653              SURGE       1997          Lightning       0.10   \n",
       "1782787       MONTE CARLO       2014      Miscellaneous       0.10   \n",
       "298607             AVENUE       2004      Miscellaneous       0.10   \n",
       "135209       SHANKS GULCH       2001      Miscellaneous       0.10   \n",
       "151618               CARP       2002          Lightning       0.10   \n",
       "325491     EAGLE ASSIST 5       2005          Lightning       0.10   \n",
       "186216          HOCHUNK 3       1998              Arson       0.10   \n",
       "345831         RANGECREEK       2002          Lightning       0.10   \n",
       "330606            FRISBEE       2003           Campfire       0.10   \n",
       "1227789             30235       2003     Debris Burning       7.00   \n",
       "...                   ...        ...                ...        ...   \n",
       "294215             NAICHE       2006      Miscellaneous       0.30   \n",
       "362655           COCHARAN       1999      Miscellaneous       0.50   \n",
       "368029            PIONEER       2004     Debris Burning       0.40   \n",
       "349517          POWERLINE       2006          Powerline       1.00   \n",
       "347121             FIF 42       2003          Lightning       0.50   \n",
       "333687          WORKHORSE       2004          Lightning       7.00   \n",
       "731898               None       1995  Missing/Undefined       4.00   \n",
       "1228032             30520       2003              Arson       1.00   \n",
       "294216   WHITETAIL SUMMIT       2006      Miscellaneous       0.30   \n",
       "256371             TRACKS       2003              Arson      10.00   \n",
       "1286275          WILDWOOD       2010      Miscellaneous      48.20   \n",
       "738317               None       1994  Missing/Undefined      52.00   \n",
       "1276621              None       2002     Debris Burning      10.00   \n",
       "365024         2100 CENTE       2001      Miscellaneous      25.00   \n",
       "1063028              FOOT       2005      Miscellaneous      40.00   \n",
       "1286206         ADON ROAD       2010          Lightning      18.00   \n",
       "1059663        INDIAN RUN       2008      Miscellaneous     208.00   \n",
       "1579611             SKULL       2012          Lightning     108.00   \n",
       "1579610       BIRCH CREEK       2012  Missing/Undefined     180.00   \n",
       "1227849             30305       2003              Arson     250.00   \n",
       "305237         KILIOVILIK       2001          Lightning     100.00   \n",
       "1324066       JIMS BRANCH       1994              Arson     158.00   \n",
       "356156         BUENAVISTA       2000          Lightning     120.00   \n",
       "1360116        COAL CREEK       2008  Missing/Undefined     320.00   \n",
       "357487      ROAD 09-08 WF       2006              Arson     900.00   \n",
       "1579684          HOPEWELL       2012  Missing/Undefined     741.00   \n",
       "1286202              None       2010          Lightning     453.00   \n",
       "1286272           THUNDER       2010      Miscellaneous     360.00   \n",
       "720670             SPENCE       1994              Arson    1005.00   \n",
       "1572579   SIXTEEN COMPLEX       2012              Arson   17944.00   \n",
       "\n",
       "        FIRE_SIZE_CLASS   LATITUDE   LONGITUDE STATE           COUNTY  \\\n",
       "132471                A  43.863889  -85.804167    MI              085   \n",
       "372614                A  33.798000 -116.301000    CA             None   \n",
       "372657                A  32.669000 -116.824000    CA             None   \n",
       "716180                A  43.162210 -121.891280    OR               18   \n",
       "720314                A  44.031730 -122.904520    OR               20   \n",
       "725676                A  42.501090 -124.369460    OR                8   \n",
       "744205                A  34.358333  -79.508333    SC               33   \n",
       "1747769               A  37.088696 -113.638745    UT       WASHINGTON   \n",
       "758718                A  44.775480 -124.060610    OR               21   \n",
       "771282                A  44.002470 -121.376830    OR               17   \n",
       "772906                A  46.163330 -123.475830    OR                4   \n",
       "1062331               A  33.985000 -111.533611    AZ             None   \n",
       "1146209               A  44.329350 -122.927790    OR               22   \n",
       "1312880               A  44.308333  -74.371667    NY         FRANKLIN   \n",
       "1333890               A  44.630456  -74.844806    NY      ST LAWRENCE   \n",
       "1351259               A  42.066412  -76.644236    NY          CHEMUNG   \n",
       "1363624               A  38.350000  -78.633330    VA       ROCKINGHAM   \n",
       "1577348               A  36.819700 -108.150300    NM         San Juan   \n",
       "365708                A  37.048126 -120.753342    CA             None   \n",
       "362642                A  35.899314 -119.276954    CA             None   \n",
       "748653                A  42.490630 -121.166320    OR               18   \n",
       "1782787               A  40.850472 -115.781791    NV             Elko   \n",
       "298607                A  32.730300 -114.625000    CA             None   \n",
       "135209                A  44.060000 -103.383333    SD             None   \n",
       "151618                A  41.883056 -111.527500    UT             None   \n",
       "325491                A  39.658000 -106.860800    CO            Eagle   \n",
       "186216                A  44.349400  -90.759900    WI             None   \n",
       "345831                A  39.467700 -110.227700    UT            Emery   \n",
       "330606                A  46.663300 -112.076400    MT  Lewis and Clark   \n",
       "1227789               B  35.983867  -94.712433    OK            Adair   \n",
       "...                 ...        ...         ...   ...              ...   \n",
       "294215                B  33.256500 -105.734200    NM             None   \n",
       "362655                B  35.899284 -119.294765    CA             None   \n",
       "368029                B  32.710556 -116.888889    CA             None   \n",
       "349517                B  43.386970 -106.267440    WY          Natrona   \n",
       "347121                B  38.598900 -112.367500    UT           Sevier   \n",
       "333687                B  40.896100 -116.857200    NV             Elko   \n",
       "731898                B  33.720833  -81.629167    SC                2   \n",
       "1228032               B  36.028083  -95.251983    OK          Wagoner   \n",
       "294216                B  33.247000 -105.613300    NM             None   \n",
       "256371                C  45.670000 -100.540700    SD             None   \n",
       "1286275               C  44.456611 -105.444111    WY         Campbell   \n",
       "738317                C  32.220833  -81.008333    SC               27   \n",
       "1276621               C  40.017222  -79.827778    PA          FAYETTE   \n",
       "365024                C  38.937900  -85.423200    IN             None   \n",
       "1063028               C  39.803889 -121.052500    CA               63   \n",
       "1286206               C  44.454340 -105.276150    WY         Campbell   \n",
       "1059663               D  40.284167 -107.408333    CO              107   \n",
       "1579611               D  43.478810 -117.838110    OR          Malheur   \n",
       "1579610               D  44.322200 -117.290000    OR          Malheur   \n",
       "1227849               D  36.035600  -94.743133    OK            Adair   \n",
       "305237                D  66.566100 -157.519400    AK             None   \n",
       "1324066               D  37.511007  -81.349864    WV          Wyoming   \n",
       "356156                D  37.658900 -119.522800    CA             None   \n",
       "1360116               E  34.940000  -94.866111    OK          Leflore   \n",
       "357487                E  34.449700  -85.597800    AL             None   \n",
       "1579684               E  40.213300  -75.761400    PA             None   \n",
       "1286202               E  43.254730 -105.202730    WY         Campbell   \n",
       "1286272               E  43.740000 -105.264870    WY         Campbell   \n",
       "720670                F  42.335490 -121.965150    OR               18   \n",
       "1572579               G  38.944440 -122.344500    CA           Colusa   \n",
       "\n",
       "            D_DATE D_MONTH D_DAY_OF_WEEK     C_DATE  BURN_DAYS  \n",
       "132471  2000-04-14     Apr        Friday 2002-04-14      730.0  \n",
       "372614  2008-02-18     Feb        Monday 2009-02-18      366.0  \n",
       "372657  2008-01-28     Jan        Monday 2009-01-28      366.0  \n",
       "716180  2004-08-14     Aug      Saturday 2005-08-15      366.0  \n",
       "720314  2000-07-06     Jul      Thursday 2007-07-07     2557.0  \n",
       "725676  2002-10-31     Oct      Thursday 2007-10-31     1826.0  \n",
       "744205  1992-05-27     May     Wednesday 1997-05-28     1827.0  \n",
       "1747769 2014-05-06     May       Tuesday 2015-05-08      367.0  \n",
       "758718  2003-07-05     Jul      Saturday 2005-07-05      731.0  \n",
       "771282  1999-07-12     Jul        Monday 2000-07-12      366.0  \n",
       "772906  2007-10-17     Oct     Wednesday 2009-10-17      731.0  \n",
       "1062331 2003-08-13     Aug     Wednesday 2004-08-13      366.0  \n",
       "1146209 1998-09-12     Sep      Saturday 2009-09-12     4018.0  \n",
       "1312880 2006-09-05     Sep       Tuesday 2007-09-06      366.0  \n",
       "1333890 2003-03-28     Mar        Friday 2004-04-10      379.0  \n",
       "1351259 2000-03-21     Mar       Tuesday 2009-03-21     3287.0  \n",
       "1363624 1996-10-31     Oct      Thursday 2000-10-31     1461.0  \n",
       "1577348 2012-12-03     Dec        Monday 2013-12-04      366.0  \n",
       "365708  2002-09-12     Sep      Thursday 2007-09-12     1826.0  \n",
       "362642  1999-08-11     Aug     Wednesday 2009-08-11     3653.0  \n",
       "748653  1997-08-10     Aug        Sunday 2007-08-10     3652.0  \n",
       "1782787 2014-04-13     Apr        Sunday 2015-05-15      397.0  \n",
       "298607  2004-01-23     Jan        Friday 2005-01-31      374.0  \n",
       "135209  2001-01-07     Jan        Sunday 2002-01-08      366.0  \n",
       "151618  2002-08-14     Aug     Wednesday 2003-08-16      367.0  \n",
       "325491  2005-08-25     Aug      Thursday 2009-08-28     1464.0  \n",
       "186216  1998-07-27     Jul        Monday 2002-07-27     1461.0  \n",
       "345831  2002-07-23     Jul       Tuesday 2003-07-24      366.0  \n",
       "330606  2003-05-26     May        Monday 2004-05-26      366.0  \n",
       "1227789 2003-03-14     Mar        Friday 2005-03-14      731.0  \n",
       "...            ...     ...           ...        ...        ...  \n",
       "294215  2006-06-15     Jun      Thursday 2009-06-15     1096.0  \n",
       "362655  1999-07-11     Jul        Sunday 2009-07-11     3653.0  \n",
       "368029  2004-12-04     Dec      Saturday 2008-12-04     1461.0  \n",
       "349517  2006-08-03     Aug      Thursday 2009-08-03     1096.0  \n",
       "347121  2003-08-22     Aug        Friday 2005-08-26      735.0  \n",
       "333687  2004-06-27     Jun        Sunday 2007-06-28     1096.0  \n",
       "731898  1995-05-08     May        Monday 1998-05-08     1096.0  \n",
       "1228032 2003-04-14     Apr        Monday 2004-04-14      366.0  \n",
       "294216  2006-06-23     Jun        Friday 2009-06-24     1097.0  \n",
       "256371  2003-05-14     May     Wednesday 2004-05-14      366.0  \n",
       "1286275 2010-08-29     Aug        Sunday 2011-09-11      378.0  \n",
       "738317  1994-02-27     Feb        Sunday 1999-02-28     1827.0  \n",
       "1276621 2002-03-19     Mar       Tuesday 2005-03-19     1096.0  \n",
       "365024  2001-04-05     Apr      Thursday 2002-04-15      375.0  \n",
       "1063028 2005-07-06     Jul     Wednesday 2006-07-12      371.0  \n",
       "1286206 2010-08-22     Aug        Sunday 2011-08-31      374.0  \n",
       "1059663 2008-10-02     Oct      Thursday 2009-10-03      366.0  \n",
       "1579611 2012-08-23     Aug      Thursday 2013-08-24      366.0  \n",
       "1579610 2012-06-12     Jun       Tuesday 2013-06-13      366.0  \n",
       "1227849 2003-03-25     Mar       Tuesday 2005-03-25      731.0  \n",
       "305237  2001-06-11     Jun        Monday 2004-06-16     1101.0  \n",
       "1324066 1994-11-05     Nov      Saturday 1996-11-06      732.0  \n",
       "356156  2000-08-07     Aug        Monday 2005-10-01     1881.0  \n",
       "1360116 2008-01-21     Jan        Monday 2009-01-23      368.0  \n",
       "357487  2006-03-05     Mar        Sunday 2008-03-09      735.0  \n",
       "1579684 2012-04-09     Apr        Monday 2013-04-14      370.0  \n",
       "1286202 2010-08-19     Aug      Thursday 2011-08-25      371.0  \n",
       "1286272 2010-08-19     Aug      Thursday 2011-08-23      369.0  \n",
       "720670  1994-07-09     Jul      Saturday 1995-07-14      370.0  \n",
       "1572579 2012-09-04     Sep       Tuesday 2013-09-10      371.0  \n",
       "\n",
       "[72 rows x 14 columns]"
      ]
     },
     "execution_count": 22,
     "metadata": {},
     "output_type": "execute_result"
    }
   ],
   "source": [
    "# interesting that there are burn days greater than six months let alone a year\n",
    "# let's take a peak at greater than a year\n",
    "greater_than_year = fires[fires['BURN_DAYS'] > 365]\n",
    "greater_than_year.sort_values('FIRE_SIZE_CLASS')"
   ]
  },
  {
   "cell_type": "code",
   "execution_count": 23,
   "metadata": {},
   "outputs": [
    {
     "name": "stdout",
     "output_type": "stream",
     "text": [
      "72\n",
      " \n",
      "A    29\n",
      "B    22\n",
      "D     7\n",
      "C     7\n",
      "E     5\n",
      "F     1\n",
      "G     1\n",
      "Name: FIRE_SIZE_CLASS, dtype: int64\n"
     ]
    }
   ],
   "source": [
    "print(len(fires[fires['BURN_DAYS'] > 365]))\n",
    "print(' ')\n",
    "print(greater_than_year['FIRE_SIZE_CLASS'].value_counts())"
   ]
  },
  {
   "cell_type": "markdown",
   "metadata": {},
   "source": [
    "- So 72 fires greater than a year with the majority less than 10 acres in size.\n",
    "- reserched the largest fire 'SIXTEEN COMPLEX and according to wiki it was contained in a week\n",
    "- to me it's not significant to remove 72 records "
   ]
  },
  {
   "cell_type": "markdown",
   "metadata": {},
   "source": [
    "## Step 2: Initial analysis of the Dataset\n",
    "\n",
    "### CAUSES"
   ]
  },
  {
   "cell_type": "code",
   "execution_count": 69,
   "metadata": {},
   "outputs": [
    {
     "data": {
      "text/plain": [
       "array(['Miscellaneous', 'Lightning', 'Debris Burning', 'Campfire',\n",
       "       'Equipment Use', 'Arson', 'Children', 'Railroad', 'Smoking',\n",
       "       'Powerline', 'Structure', 'Fireworks', 'Missing/Undefined'],\n",
       "      dtype=object)"
      ]
     },
     "execution_count": 69,
     "metadata": {},
     "output_type": "execute_result"
    }
   ],
   "source": [
    "fires['STAT_CAUSE_DESCR'].unique()"
   ]
  },
  {
   "cell_type": "code",
   "execution_count": 24,
   "metadata": {},
   "outputs": [
    {
     "data": {
      "text/plain": [
       "<matplotlib.axes._subplots.AxesSubplot at 0x1cd0ae9e8>"
      ]
     },
     "execution_count": 24,
     "metadata": {},
     "output_type": "execute_result"
    },
    {
     "data": {
      "image/png": "[encoded data removed]",
      "text/plain": [
       "<Figure size 864x432 with 1 Axes>"
      ]
     },
     "metadata": {},
     "output_type": "display_data"
    }
   ],
   "source": [
    "fires['STAT_CAUSE_DESCR'].value_counts().plot.barh(figsize=(12, 6), color='tab:blue', title='Causes of Fires')"
   ]
  },
  {
   "cell_type": "markdown",
   "metadata": {},
   "source": [
    "Findings\n",
    "- Debris buring is by far the biggest\n",
    "- like to understand the Miscellaneous and Missing/Undefined catagories - why so many?\n",
    "    - will explore more when I start learning ML\n",
    "- Arson and Lightening very close third and fourth  \n",
    "\n",
    "### BY YEAR"
   ]
  },
  {
   "cell_type": "code",
   "execution_count": 25,
   "metadata": {},
   "outputs": [
    {
     "data": {
      "text/plain": [
       "<matplotlib.axes._subplots.AxesSubplot at 0x158f02be0>"
      ]
     },
     "execution_count": 25,
     "metadata": {},
     "output_type": "execute_result"
    },
    {
     "data": {
      "image/png": "[encoded data removed]",
      "text/plain": [
       "<Figure size 864x432 with 1 Axes>"
      ]
     },
     "metadata": {},
     "output_type": "display_data"
    }
   ],
   "source": [
    "fires['FIRE_YEAR'].value_counts().sort_index().plot.bar(figsize=(12, 6), color='tab:blue',title='# of Fires by Year')"
   ]
  },
  {
   "cell_type": "code",
   "execution_count": 26,
   "metadata": {},
   "outputs": [
    {
     "name": "stdout",
     "output_type": "stream",
     "text": [
      "61450\n",
      "114004\n",
      "78352.70833333333\n"
     ]
    }
   ],
   "source": [
    "print(fires['FIRE_YEAR'].value_counts().min())\n",
    "print(fires['FIRE_YEAR'].value_counts().max())\n",
    "print(fires['FIRE_YEAR'].value_counts().mean())"
   ]
  },
  {
   "cell_type": "markdown",
   "metadata": {},
   "source": [
    "The number of fires ranges from 60,000 to over 110,000 between 1992 and 2015. The peak is 2006 at 114,004; There is a small updward trend in this time period (need to figure out how to add a trendline in matplotlib) \n",
    "\n",
    "### BY Month"
   ]
  },
  {
   "cell_type": "code",
   "execution_count": 27,
   "metadata": {
    "scrolled": true
   },
   "outputs": [
    {
     "data": {
      "text/plain": [
       "<matplotlib.axes._subplots.AxesSubplot at 0x158ba9cf8>"
      ]
     },
     "execution_count": 27,
     "metadata": {},
     "output_type": "execute_result"
    },
    {
     "data": {
      "image/png": "[encoded data removed]",
      "text/plain": [
       "<Figure size 432x288 with 1 Axes>"
      ]
     },
     "metadata": {},
     "output_type": "display_data"
    }
   ],
   "source": [
    "# getting the months in calendar order\n",
    "monthly = fires['D_MONTH'].value_counts()\n",
    "monthly.index = pd.CategoricalIndex(monthly.index, \n",
    "                categories=['Jan', 'Feb', 'Mar', 'Apr','May','Jun', 'Jul', 'Aug','Sep', 'Oct', 'Nov', 'Dec'])\n",
    "monthly = monthly.sort_index()\n",
    "monthly.plot.bar( color='tab:blue',title='# of Fires by Month')"
   ]
  },
  {
   "cell_type": "code",
   "execution_count": 28,
   "metadata": {},
   "outputs": [],
   "source": [
    "# function to return specific catagories of causes by month\n",
    "def fire_by_month(desc):\n",
    "    sub_df = fires[fires['STAT_CAUSE_DESCR'] == desc]\n",
    "    month = sub_df['D_MONTH'].value_counts()\n",
    "    month.index = pd.CategoricalIndex(month.index, \n",
    "                categories=['Jan', 'Feb', 'Mar', 'Apr','May','Jun', 'Jul', 'Aug','Sep', 'Oct', 'Nov', 'Dec'])\n",
    "    month = month.sort_index()\n",
    "    plot = month.plot.bar( color='tab:blue',title='# of ' + desc +' Fires by Month')\n",
    "    return plot"
   ]
  },
  {
   "cell_type": "code",
   "execution_count": 29,
   "metadata": {},
   "outputs": [
    {
     "data": {
      "text/plain": [
       "<matplotlib.axes._subplots.AxesSubplot at 0x152ccb438>"
      ]
     },
     "execution_count": 29,
     "metadata": {},
     "output_type": "execute_result"
    },
    {
     "data": {
      "image/png": "[encoded data removed]",
      "text/plain": [
       "<Figure size 432x288 with 1 Axes>"
      ]
     },
     "metadata": {},
     "output_type": "display_data"
    }
   ],
   "source": [
    "fire_by_month('Debris Burning')"
   ]
  },
  {
   "cell_type": "code",
   "execution_count": 30,
   "metadata": {},
   "outputs": [
    {
     "data": {
      "text/plain": [
       "<matplotlib.axes._subplots.AxesSubplot at 0x152356208>"
      ]
     },
     "execution_count": 30,
     "metadata": {},
     "output_type": "execute_result"
    },
    {
     "data": {
      "image/png": "[encoded data removed]",
      "text/plain": [
       "<Figure size 432x288 with 1 Axes>"
      ]
     },
     "metadata": {},
     "output_type": "display_data"
    }
   ],
   "source": [
    "fire_by_month('Miscellaneous')"
   ]
  },
  {
   "cell_type": "code",
   "execution_count": 31,
   "metadata": {},
   "outputs": [
    {
     "data": {
      "text/plain": [
       "<matplotlib.axes._subplots.AxesSubplot at 0x151f2fbe0>"
      ]
     },
     "execution_count": 31,
     "metadata": {},
     "output_type": "execute_result"
    },
    {
     "data": {
      "image/png": "[encoded data removed]",
      "text/plain": [
       "<Figure size 432x288 with 1 Axes>"
      ]
     },
     "metadata": {},
     "output_type": "display_data"
    }
   ],
   "source": [
    "fire_by_month('Lightning')"
   ]
  },
  {
   "cell_type": "code",
   "execution_count": 32,
   "metadata": {},
   "outputs": [
    {
     "data": {
      "text/plain": [
       "<matplotlib.axes._subplots.AxesSubplot at 0x15123f390>"
      ]
     },
     "execution_count": 32,
     "metadata": {},
     "output_type": "execute_result"
    },
    {
     "data": {
      "image/png": "[encoded data removed]",
      "text/plain": [
       "<Figure size 432x288 with 1 Axes>"
      ]
     },
     "metadata": {},
     "output_type": "display_data"
    }
   ],
   "source": [
    "fire_by_month('Arson')"
   ]
  },
  {
   "cell_type": "markdown",
   "metadata": {},
   "source": [
    "### Snapshot of the top fire months Mar/Apr/Jul/Aug + Dec"
   ]
  },
  {
   "cell_type": "code",
   "execution_count": 33,
   "metadata": {},
   "outputs": [],
   "source": [
    "# function to return causes by month\n",
    "def causes_by_month(month):\n",
    "    c_month = fires[fires['D_MONTH'] == month]\n",
    "    plot = c_month['STAT_CAUSE_DESCR'].value_counts().plot.barh( color='tab:blue', title='Causes of Fires in ' + month)\n",
    "    return plot"
   ]
  },
  {
   "cell_type": "code",
   "execution_count": 34,
   "metadata": {},
   "outputs": [
    {
     "data": {
      "text/plain": [
       "<matplotlib.axes._subplots.AxesSubplot at 0x151085860>"
      ]
     },
     "execution_count": 34,
     "metadata": {},
     "output_type": "execute_result"
    },
    {
     "data": {
      "image/png": "[encoded data removed]",
      "text/plain": [
       "<Figure size 432x288 with 1 Axes>"
      ]
     },
     "metadata": {},
     "output_type": "display_data"
    }
   ],
   "source": [
    "causes_by_month('Mar')"
   ]
  },
  {
   "cell_type": "code",
   "execution_count": 35,
   "metadata": {},
   "outputs": [
    {
     "data": {
      "text/plain": [
       "<matplotlib.axes._subplots.AxesSubplot at 0x150bb5b70>"
      ]
     },
     "execution_count": 35,
     "metadata": {},
     "output_type": "execute_result"
    },
    {
     "data": {
      "image/png": "[encoded data removed]",
      "text/plain": [
       "<Figure size 432x288 with 1 Axes>"
      ]
     },
     "metadata": {},
     "output_type": "display_data"
    }
   ],
   "source": [
    "causes_by_month('Apr')"
   ]
  },
  {
   "cell_type": "code",
   "execution_count": 36,
   "metadata": {},
   "outputs": [
    {
     "data": {
      "text/plain": [
       "<matplotlib.axes._subplots.AxesSubplot at 0x150489f28>"
      ]
     },
     "execution_count": 36,
     "metadata": {},
     "output_type": "execute_result"
    },
    {
     "data": {
      "image/png": "[encoded data removed]",
      "text/plain": [
       "<Figure size 432x288 with 1 Axes>"
      ]
     },
     "metadata": {},
     "output_type": "display_data"
    }
   ],
   "source": [
    "causes_by_month('Jul')"
   ]
  },
  {
   "cell_type": "code",
   "execution_count": 37,
   "metadata": {},
   "outputs": [
    {
     "data": {
      "text/plain": [
       "<matplotlib.axes._subplots.AxesSubplot at 0x1509c4668>"
      ]
     },
     "execution_count": 37,
     "metadata": {},
     "output_type": "execute_result"
    },
    {
     "data": {
      "image/png": "[encoded data removed]",
      "text/plain": [
       "<Figure size 432x288 with 1 Axes>"
      ]
     },
     "metadata": {},
     "output_type": "display_data"
    }
   ],
   "source": [
    "causes_by_month('Aug')"
   ]
  },
  {
   "cell_type": "code",
   "execution_count": 38,
   "metadata": {},
   "outputs": [
    {
     "data": {
      "text/plain": [
       "<matplotlib.axes._subplots.AxesSubplot at 0x14f421dd8>"
      ]
     },
     "execution_count": 38,
     "metadata": {},
     "output_type": "execute_result"
    },
    {
     "data": {
      "image/png": "[encoded data removed]",
      "text/plain": [
       "<Figure size 432x288 with 1 Axes>"
      ]
     },
     "metadata": {},
     "output_type": "display_data"
    }
   ],
   "source": [
    "causes_by_month('Dec')"
   ]
  },
  {
   "cell_type": "markdown",
   "metadata": {},
   "source": [
    "- Debris Burning is the largest cause of fires in March / April followed by Arson\n",
    "- In the summer months of July and August Lightning far oupaces all causes\n",
    "- December has the lowest total of fires but is led by Debris Burning\n",
    "\n",
    "### Fires by Day of Week (dow)"
   ]
  },
  {
   "cell_type": "code",
   "execution_count": 39,
   "metadata": {},
   "outputs": [
    {
     "data": {
      "text/plain": [
       "<matplotlib.axes._subplots.AxesSubplot at 0x14ed563c8>"
      ]
     },
     "execution_count": 39,
     "metadata": {},
     "output_type": "execute_result"
    },
    {
     "data": {
      "image/png": "[encoded data removed]",
      "text/plain": [
       "<Figure size 432x288 with 1 Axes>"
      ]
     },
     "metadata": {},
     "output_type": "display_data"
    }
   ],
   "source": [
    "# getting the day of week in week order\n",
    "dow = fires['D_DAY_OF_WEEK'].value_counts()\n",
    "dow.index = pd.CategoricalIndex(dow.index, \n",
    "                categories=['Monday', 'Tuesday', 'Wednesday', 'Thursday','Friday', 'Saturday', 'Sunday'])\n",
    "dow = dow.sort_index()\n",
    "dow.plot.bar(color='tab:blue',title='# of Fires by Day of Week')"
   ]
  },
  {
   "cell_type": "markdown",
   "metadata": {},
   "source": [
    "Fires are slightly more likely to start on the weekend probably due to debris but lets find out. "
   ]
  },
  {
   "cell_type": "code",
   "execution_count": 40,
   "metadata": {},
   "outputs": [],
   "source": [
    "def fire_by_dow(desc):\n",
    "    dow_df = fires[fires['STAT_CAUSE_DESCR'] == desc]\n",
    "    dow = dow_df['D_DAY_OF_WEEK'].value_counts()\n",
    "    \n",
    "    dow.index = pd.CategoricalIndex(dow.index, \n",
    "                categories=['Monday', 'Tuesday', 'Wednesday', 'Thursday','Friday', 'Saturday', 'Sunday'])\n",
    "    dow = dow.sort_index()\n",
    "    plot = dow.plot.bar(color='tab:blue',title='Caused by ' + desc)\n",
    "    return plot"
   ]
  },
  {
   "cell_type": "code",
   "execution_count": 41,
   "metadata": {},
   "outputs": [
    {
     "data": {
      "text/plain": [
       "<matplotlib.axes._subplots.AxesSubplot at 0x14e668400>"
      ]
     },
     "execution_count": 41,
     "metadata": {},
     "output_type": "execute_result"
    },
    {
     "data": {
      "image/png": "[encoded data removed]",
      "text/plain": [
       "<Figure size 432x288 with 1 Axes>"
      ]
     },
     "metadata": {},
     "output_type": "display_data"
    }
   ],
   "source": [
    "fire_by_dow('Debris Burning')"
   ]
  },
  {
   "cell_type": "code",
   "execution_count": 42,
   "metadata": {},
   "outputs": [
    {
     "data": {
      "text/plain": [
       "<matplotlib.axes._subplots.AxesSubplot at 0x14e1af208>"
      ]
     },
     "execution_count": 42,
     "metadata": {},
     "output_type": "execute_result"
    },
    {
     "data": {
      "image/png": "[encoded data removed]",
      "text/plain": [
       "<Figure size 432x288 with 1 Axes>"
      ]
     },
     "metadata": {},
     "output_type": "display_data"
    }
   ],
   "source": [
    "fire_by_dow('Miscellaneous')"
   ]
  },
  {
   "cell_type": "code",
   "execution_count": 43,
   "metadata": {},
   "outputs": [
    {
     "data": {
      "text/plain": [
       "<matplotlib.axes._subplots.AxesSubplot at 0x14daa04a8>"
      ]
     },
     "execution_count": 43,
     "metadata": {},
     "output_type": "execute_result"
    },
    {
     "data": {
      "image/png": "[encoded data removed]",
      "text/plain": [
       "<Figure size 432x288 with 1 Axes>"
      ]
     },
     "metadata": {},
     "output_type": "display_data"
    }
   ],
   "source": [
    "fire_by_dow('Arson')"
   ]
  },
  {
   "cell_type": "code",
   "execution_count": 44,
   "metadata": {
    "scrolled": false
   },
   "outputs": [
    {
     "data": {
      "text/plain": [
       "<matplotlib.axes._subplots.AxesSubplot at 0x14d4b1be0>"
      ]
     },
     "execution_count": 44,
     "metadata": {},
     "output_type": "execute_result"
    },
    {
     "data": {
      "image/png": "[encoded data removed]",
      "text/plain": [
       "<Figure size 432x288 with 1 Axes>"
      ]
     },
     "metadata": {},
     "output_type": "display_data"
    }
   ],
   "source": [
    "fire_by_dow('Lightning')"
   ]
  },
  {
   "cell_type": "markdown",
   "metadata": {},
   "source": [
    "- Saturdays are the biggest day of the week for Debris and Misc (wonder is some of the misc is actually debris).\n",
    "- Sundays followed closely by Saturdays are the biggest days for Arson.\n",
    "- Interestingly, lightening is slightly ahead on Wednesdays but is relatively even across day of week.\n",
    "\n",
    "\n",
    "### Fires by State - Top Ten"
   ]
  },
  {
   "cell_type": "code",
   "execution_count": 45,
   "metadata": {},
   "outputs": [
    {
     "data": {
      "text/plain": [
       "<matplotlib.axes._subplots.AxesSubplot at 0x14628a898>"
      ]
     },
     "execution_count": 45,
     "metadata": {},
     "output_type": "execute_result"
    },
    {
     "data": {
      "image/png": "[encoded data removed]",
      "text/plain": [
       "<Figure size 432x288 with 1 Axes>"
      ]
     },
     "metadata": {},
     "output_type": "display_data"
    }
   ],
   "source": [
    "fires['STATE'].value_counts()[0:10].plot.bar( color='tab:blue',title='Top 10 States')"
   ]
  },
  {
   "cell_type": "markdown",
   "metadata": {},
   "source": [
    "- Expected CA and TX based on size and climate (not surprised AZ at 9 but expected CO and/or NM to show given their climates) but surprised by the # of southern states showing up in the top 10.\n",
    "- Lets look at the top 5 in more detail"
   ]
  },
  {
   "cell_type": "code",
   "execution_count": 46,
   "metadata": {},
   "outputs": [],
   "source": [
    "# function to return causes in specific states\n",
    "\n",
    "def causes_by_state(state):\n",
    "    state_df = fires[fires['STATE']==state]\n",
    "    st = state_df['STAT_CAUSE_DESCR'].value_counts()\n",
    "    plot = st.plot.barh( color='tab:blue', title='Causes of Fires in ' + state)\n",
    "    return plot"
   ]
  },
  {
   "cell_type": "code",
   "execution_count": 47,
   "metadata": {},
   "outputs": [
    {
     "data": {
      "text/plain": [
       "<matplotlib.axes._subplots.AxesSubplot at 0x14c5288d0>"
      ]
     },
     "execution_count": 47,
     "metadata": {},
     "output_type": "execute_result"
    },
    {
     "data": {
      "image/png": "[encoded data removed]",
      "text/plain": [
       "<Figure size 432x288 with 1 Axes>"
      ]
     },
     "metadata": {},
     "output_type": "display_data"
    }
   ],
   "source": [
    "causes_by_state('CA')"
   ]
  },
  {
   "cell_type": "code",
   "execution_count": 48,
   "metadata": {},
   "outputs": [
    {
     "data": {
      "text/plain": [
       "<matplotlib.axes._subplots.AxesSubplot at 0x14ae3eba8>"
      ]
     },
     "execution_count": 48,
     "metadata": {},
     "output_type": "execute_result"
    },
    {
     "data": {
      "image/png": "[encoded data removed]",
      "text/plain": [
       "<Figure size 432x288 with 1 Axes>"
      ]
     },
     "metadata": {},
     "output_type": "display_data"
    }
   ],
   "source": [
    "causes_by_state('GA')"
   ]
  },
  {
   "cell_type": "code",
   "execution_count": 49,
   "metadata": {},
   "outputs": [
    {
     "data": {
      "text/plain": [
       "<matplotlib.axes._subplots.AxesSubplot at 0x149d9a160>"
      ]
     },
     "execution_count": 49,
     "metadata": {},
     "output_type": "execute_result"
    },
    {
     "data": {
      "image/png": "[encoded data removed]",
      "text/plain": [
       "<Figure size 432x288 with 1 Axes>"
      ]
     },
     "metadata": {},
     "output_type": "display_data"
    }
   ],
   "source": [
    "causes_by_state('TX')"
   ]
  },
  {
   "cell_type": "code",
   "execution_count": 50,
   "metadata": {},
   "outputs": [
    {
     "data": {
      "text/plain": [
       "<matplotlib.axes._subplots.AxesSubplot at 0x1490639e8>"
      ]
     },
     "execution_count": 50,
     "metadata": {},
     "output_type": "execute_result"
    },
    {
     "data": {
      "image/png": "[encoded data removed]",
      "text/plain": [
       "<Figure size 432x288 with 1 Axes>"
      ]
     },
     "metadata": {},
     "output_type": "display_data"
    }
   ],
   "source": [
    "causes_by_state('NC')"
   ]
  },
  {
   "cell_type": "code",
   "execution_count": 51,
   "metadata": {},
   "outputs": [
    {
     "data": {
      "text/plain": [
       "<matplotlib.axes._subplots.AxesSubplot at 0x148c66860>"
      ]
     },
     "execution_count": 51,
     "metadata": {},
     "output_type": "execute_result"
    },
    {
     "data": {
      "image/png": "[encoded data removed]",
      "text/plain": [
       "<Figure size 432x288 with 1 Axes>"
      ]
     },
     "metadata": {},
     "output_type": "display_data"
    }
   ],
   "source": [
    "causes_by_state('FL')"
   ]
  },
  {
   "cell_type": "code",
   "execution_count": 52,
   "metadata": {},
   "outputs": [
    {
     "data": {
      "text/plain": [
       "<matplotlib.axes._subplots.AxesSubplot at 0x14c5284a8>"
      ]
     },
     "execution_count": 52,
     "metadata": {},
     "output_type": "execute_result"
    },
    {
     "data": {
      "image/png": "[encoded data removed]",
      "text/plain": [
       "<Figure size 432x288 with 1 Axes>"
      ]
     },
     "metadata": {},
     "output_type": "display_data"
    }
   ],
   "source": [
    "causes_by_state('SC')"
   ]
  },
  {
   "cell_type": "markdown",
   "metadata": {},
   "source": [
    "- CA is led by Misc, followed by Equipment Use and Lightning \n",
    "- GA, TX, NC and SC are all led by Debris Burning; In GA Arson is second\n",
    "- FL is led by Lightning followed by Railroad (seems odd need to invesigate further)"
   ]
  },
  {
   "cell_type": "code",
   "execution_count": 53,
   "metadata": {},
   "outputs": [
    {
     "data": {
      "text/plain": [
       "<matplotlib.axes._subplots.AxesSubplot at 0x1446eec18>"
      ]
     },
     "execution_count": 53,
     "metadata": {},
     "output_type": "execute_result"
    },
    {
     "data": {
      "image/png": "[encoded data removed]",
      "text/plain": [
       "<Figure size 432x288 with 1 Axes>"
      ]
     },
     "metadata": {},
     "output_type": "display_data"
    }
   ],
   "source": [
    "causes_by_state('MS')"
   ]
  },
  {
   "cell_type": "code",
   "execution_count": 54,
   "metadata": {},
   "outputs": [
    {
     "data": {
      "text/plain": [
       "<matplotlib.axes._subplots.AxesSubplot at 0x143f4dda0>"
      ]
     },
     "execution_count": 54,
     "metadata": {},
     "output_type": "execute_result"
    },
    {
     "data": {
      "image/png": "[encoded data removed]",
      "text/plain": [
       "<Figure size 432x288 with 1 Axes>"
      ]
     },
     "metadata": {},
     "output_type": "display_data"
    }
   ],
   "source": [
    "causes_by_state('AL')"
   ]
  },
  {
   "cell_type": "markdown",
   "metadata": {},
   "source": [
    "- I show MS and AL assuming Debris Burning would be first but no, it's Arson???"
   ]
  },
  {
   "cell_type": "code",
   "execution_count": 55,
   "metadata": {},
   "outputs": [
    {
     "name": "stdout",
     "output_type": "stream",
     "text": [
      "13637\n"
     ]
    }
   ],
   "source": [
    "# how many unique fire sizes\n",
    "print(len(fires['FIRE_SIZE'].unique()))"
   ]
  },
  {
   "cell_type": "code",
   "execution_count": 56,
   "metadata": {},
   "outputs": [
    {
     "data": {
      "text/plain": [
       "B    939376\n",
       "A    666919\n",
       "C    220077\n",
       "D     28427\n",
       "E     14107\n",
       "F      7786\n",
       "G      3773\n",
       "Name: FIRE_SIZE_CLASS, dtype: int64"
      ]
     },
     "execution_count": 56,
     "metadata": {},
     "output_type": "execute_result"
    }
   ],
   "source": [
    "fires['FIRE_SIZE_CLASS'].value_counts()"
   ]
  },
  {
   "cell_type": "markdown",
   "metadata": {},
   "source": [
    "#### there are over 13,000 unique sizes in FIRE_SIZE so I'll use the FIRE_SIZE_CLASS by acres\n",
    "\n",
    "- 'A' = '0-0.25'\n",
    "- 'B' = '0.26-9.9'\n",
    "- 'C' = '10.0-99.9'\n",
    "- 'D' = '100-299'\n",
    "- 'E' = '300-999'\n",
    "- 'F' = '1000-4999'\n",
    "- 'G' = '5000+')"
   ]
  },
  {
   "cell_type": "code",
   "execution_count": 57,
   "metadata": {},
   "outputs": [
    {
     "data": {
      "text/plain": [
       "<matplotlib.axes._subplots.AxesSubplot at 0x143397710>"
      ]
     },
     "execution_count": 57,
     "metadata": {},
     "output_type": "execute_result"
    },
    {
     "data": {
      "image/png": "[encoded data removed]",
      "text/plain": [
       "<Figure size 432x288 with 1 Axes>"
      ]
     },
     "metadata": {},
     "output_type": "display_data"
    }
   ],
   "source": [
    "fires['FIRE_SIZE_CLASS'].value_counts().sort_index().plot.barh( color='tab:blue',title='# of Fires by Size Class')"
   ]
  },
  {
   "cell_type": "code",
   "execution_count": 58,
   "metadata": {},
   "outputs": [],
   "source": [
    "# function to return causes by size class\n",
    "\n",
    "def causes_by_class(class_size):\n",
    "    class_df = fires[fires['FIRE_SIZE_CLASS']==class_size]\n",
    "    st = class_df['STAT_CAUSE_DESCR'].value_counts()\n",
    "    plot = st.plot.barh( color='tab:blue', title='Causes of Fires by Size Class ' + class_size)\n",
    "    return plot"
   ]
  },
  {
   "cell_type": "code",
   "execution_count": 59,
   "metadata": {},
   "outputs": [
    {
     "data": {
      "text/plain": [
       "<matplotlib.axes._subplots.AxesSubplot at 0x1466c1898>"
      ]
     },
     "execution_count": 59,
     "metadata": {},
     "output_type": "execute_result"
    },
    {
     "data": {
      "image/png": "[encoded data removed]",
      "text/plain": [
       "<Figure size 432x288 with 1 Axes>"
      ]
     },
     "metadata": {},
     "output_type": "display_data"
    }
   ],
   "source": [
    "causes_by_class('A')"
   ]
  },
  {
   "cell_type": "code",
   "execution_count": 60,
   "metadata": {},
   "outputs": [
    {
     "data": {
      "text/plain": [
       "<matplotlib.axes._subplots.AxesSubplot at 0x141cafa20>"
      ]
     },
     "execution_count": 60,
     "metadata": {},
     "output_type": "execute_result"
    },
    {
     "data": {
      "image/png": "[encoded data removed]",
      "text/plain": [
       "<Figure size 432x288 with 1 Axes>"
      ]
     },
     "metadata": {},
     "output_type": "display_data"
    }
   ],
   "source": [
    "causes_by_class('B')"
   ]
  },
  {
   "cell_type": "code",
   "execution_count": 61,
   "metadata": {},
   "outputs": [
    {
     "data": {
      "text/plain": [
       "<matplotlib.axes._subplots.AxesSubplot at 0x14284b940>"
      ]
     },
     "execution_count": 61,
     "metadata": {},
     "output_type": "execute_result"
    },
    {
     "data": {
      "image/png": "[encoded data removed]",
      "text/plain": [
       "<Figure size 432x288 with 1 Axes>"
      ]
     },
     "metadata": {},
     "output_type": "display_data"
    }
   ],
   "source": [
    "causes_by_class('C')"
   ]
  },
  {
   "cell_type": "code",
   "execution_count": 62,
   "metadata": {},
   "outputs": [
    {
     "data": {
      "text/plain": [
       "<matplotlib.axes._subplots.AxesSubplot at 0x10eb83518>"
      ]
     },
     "execution_count": 62,
     "metadata": {},
     "output_type": "execute_result"
    },
    {
     "data": {
      "image/png": "[encoded data removed]",
      "text/plain": [
       "<Figure size 432x288 with 1 Axes>"
      ]
     },
     "metadata": {},
     "output_type": "display_data"
    }
   ],
   "source": [
    "causes_by_class('D')"
   ]
  },
  {
   "cell_type": "code",
   "execution_count": 63,
   "metadata": {},
   "outputs": [
    {
     "data": {
      "text/plain": [
       "<matplotlib.axes._subplots.AxesSubplot at 0x13ff87a58>"
      ]
     },
     "execution_count": 63,
     "metadata": {},
     "output_type": "execute_result"
    },
    {
     "data": {
      "image/png": "[encoded data removed]",
      "text/plain": [
       "<Figure size 432x288 with 1 Axes>"
      ]
     },
     "metadata": {},
     "output_type": "display_data"
    }
   ],
   "source": [
    "causes_by_class('E')"
   ]
  },
  {
   "cell_type": "markdown",
   "metadata": {},
   "source": [
    "- Class A is lightening, which I imagine is lightening striking homes or buildings\n",
    "- Class B & C is either Debris Burning or Arson causes\n",
    "- Class E, (F & G not shown) are caused by lightning which i imagine are the larger forest fires in remote locations"
   ]
  },
  {
   "cell_type": "code",
   "execution_count": 64,
   "metadata": {},
   "outputs": [
    {
     "name": "stdout",
     "output_type": "stream",
     "text": [
      "FIRE_SIZE_CLASS\n",
      "A     1.028552\n",
      "B     0.789093\n",
      "C     1.236716\n",
      "D     4.117176\n",
      "E     7.406832\n",
      "F    14.321441\n",
      "G    32.397392\n",
      "Name: BURN_DAYS, dtype: float64\n"
     ]
    },
    {
     "data": {
      "text/plain": [
       "<matplotlib.axes._subplots.AxesSubplot at 0x13f709860>"
      ]
     },
     "execution_count": 64,
     "metadata": {},
     "output_type": "execute_result"
    },
    {
     "data": {
      "image/png": "[encoded data removed]",
      "text/plain": [
       "<Figure size 432x288 with 1 Axes>"
      ]
     },
     "metadata": {},
     "output_type": "display_data"
    }
   ],
   "source": [
    "# lets explore size and burn time\n",
    "\n",
    "print(fires.groupby('FIRE_SIZE_CLASS')['BURN_DAYS'].mean())\n",
    "fires.groupby('FIRE_SIZE_CLASS')['BURN_DAYS'].mean().plot.barh(color='tab:blue', title='Average # of Burn Days')"
   ]
  },
  {
   "cell_type": "markdown",
   "metadata": {},
   "source": [
    "- this makes sense, the larger the fire, the longer burn time\n",
    "- interesting to see fire size class B is less than a day where fire size class A which is less than a quater acre is slightly over a day\n"
   ]
  },
  {
   "cell_type": "code",
   "execution_count": 65,
   "metadata": {},
   "outputs": [
    {
     "data": {
      "text/plain": [
       "<matplotlib.axes._subplots.AxesSubplot at 0x13efe9898>"
      ]
     },
     "execution_count": 65,
     "metadata": {},
     "output_type": "execute_result"
    },
    {
     "data": {
      "image/png": "[encoded data removed]",
      "text/plain": [
       "<Figure size 432x288 with 1 Axes>"
      ]
     },
     "metadata": {},
     "output_type": "display_data"
    }
   ],
   "source": [
    "# lets explore causes and burn time\n",
    "fires.groupby('STAT_CAUSE_DESCR')['BURN_DAYS'].mean().sort_values().plot.barh( color='tab:blue', title='Average # of Burn Days')"
   ]
  },
  {
   "cell_type": "code",
   "execution_count": 66,
   "metadata": {},
   "outputs": [],
   "source": [
    "# exporting for a visualtization in Tableau\n",
    "\n",
    "fires.to_csv('fires_df.csv')"
   ]
  },
  {
   "cell_type": "code",
   "execution_count": null,
   "metadata": {},
   "outputs": [],
   "source": []
  }
 ],
 "metadata": {
  "kernelspec": {
   "display_name": "Python 3",
   "language": "python",
   "name": "python3"
  },
  "language_info": {
   "codemirror_mode": {
    "name": "ipython",
    "version": 3
   },
   "file_extension": ".py",
   "mimetype": "text/x-python",
   "name": "python",
   "nbconvert_exporter": "python",
   "pygments_lexer": "ipython3",
   "version": "3.6.5"
  }
 },
 "nbformat": 4,
 "nbformat_minor": 2
}
